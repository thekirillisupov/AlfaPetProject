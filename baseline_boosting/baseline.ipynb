{
 "cells": [
  {
   "cell_type": "markdown",
   "metadata": {},
   "source": [
    "### 0. Imports and requirements"
   ]
  },
  {
   "cell_type": "markdown",
   "metadata": {},
   "source": [
    "* Для моделирования нам понадобится реализация градиентного бустинга из `catboost` и `lightgbm`. Для обработки данных - стандартный DS стек из `pandas`, `numpy` и `sklearn`. Так как мы будем использовать по-настоящему огромные выборки (логи транзакций клиентов), то нужно будет эффективно читать данные и выделять из них признаки, чтобы иметь возможность строить решение даже на локальных машинах с большими ограничениями по RAM.  Поэтому нам понадобятся инструменты для работы с форматом данных `Parquet`. Библиотека `pandas` представляет необходимый инструментарий (рекомендуем установить модуль `fastparquet`, это позволит еще быстрее считывать данные)."
   ]
  },
  {
   "cell_type": "code",
   "execution_count": 2,
   "metadata": {},
   "outputs": [],
   "source": [
    "%load_ext autoreload\n",
    "%autoreload 2\n",
    "\n",
    "import gc\n",
    "\n",
    "import os\n",
    "import sys\n",
    "import pandas as pd\n",
    "import numpy as np\n",
    "import tqdm\n",
    "import seaborn as sns\n",
    "from pathlib import Path\n",
    "\n",
    "import matplotlib\n",
    "import matplotlib.pyplot as plt\n",
    "%matplotlib inline  \n",
    "\n",
    "from sklearn.model_selection import train_test_split, StratifiedKFold, KFold, TimeSeriesSplit\n",
    "from sklearn.inspection import permutation_importance\n",
    "from sklearn.metrics import roc_auc_score\n",
    "\n",
    "import catboost as cb\n",
    "import lightgbm as lgb\n",
    "\n",
    "pd.set_option('display.max_columns', None)\n",
    "\n",
    "# если у вас есть CUDA, то она понадобится там для экспериментов в catboost\n",
    "os.environ[\"CUDA_VISIBLE_DEVICES\"] = '0'\n",
    "\n",
    "sys.path.append('../')\n",
    "\n",
    "SEED = 42"
   ]
  },
  {
   "cell_type": "markdown",
   "metadata": {},
   "source": [
    "### 1. Reading Data"
   ]
  },
  {
   "cell_type": "markdown",
   "metadata": {},
   "source": [
    "* В данном соревновании участникам предстоит работать с таким форматом данных, как `Parquet`. Подробнее о нем почитать Вы можете самостоятельно. Самое главное - это крайне эффективный бинарный формат сжатия данных по колонокам. Однако для непосредственной работы с данными и построением моделей, нам нужно их прочитать и трансформировать в pandas.DataFrame. При этом сделать это эффективно по памяти."
   ]
  },
  {
   "cell_type": "code",
   "execution_count": 3,
   "metadata": {},
   "outputs": [],
   "source": [
    "TRAIN_TRANSACTIONS_PATH = '../train_transactions_contest/'\n",
    "TEST_TRANSACTIONS_PATH = '../test_transactions_contest/'\n",
    "\n",
    "TRAIN_TARGET_PATH = '../train_target.csv'"
   ]
  },
  {
   "cell_type": "code",
   "execution_count": 4,
   "metadata": {},
   "outputs": [],
   "source": [
    "from utils import read_parquet_dataset_from_local"
   ]
  },
  {
   "cell_type": "markdown",
   "metadata": {},
   "source": [
    "* Для примера прочитаем одну партицию в память и оценим, сколько RAM она занимает"
   ]
  },
  {
   "cell_type": "code",
   "execution_count": 5,
   "metadata": {},
   "outputs": [
    {
     "data": {
      "application/vnd.jupyter.widget-view+json": {
       "model_id": "6e9765dacc5244f2be549cb7ce594784",
       "version_major": 2,
       "version_minor": 0
      },
      "text/plain": [
       "Reading dataset with pandas:   0%|          | 0/1 [00:00<?, ?it/s]"
      ]
     },
     "metadata": {},
     "output_type": "display_data"
    },
    {
     "name": "stdout",
     "output_type": "stream",
     "text": [
      "Объем памяти в  RAM одной партиции данных с транзакциями: 0.476 Gb\n",
      "Ожидаемый размер в RAM всего датасета: 23.798 Gb\n"
     ]
    }
   ],
   "source": [
    "transactions_frame = read_parquet_dataset_from_local(TRAIN_TRANSACTIONS_PATH, start_from=0, num_parts_to_read=1)\n",
    "\n",
    "memory_usage_of_frame = transactions_frame.memory_usage(index=True).sum() / 10**9\n",
    "expected_memory_usage = memory_usage_of_frame * 50\n",
    "print(f'Объем памяти в  RAM одной партиции данных с транзакциями: {round(memory_usage_of_frame, 3)} Gb')\n",
    "print(f'Ожидаемый размер в RAM всего датасета: {round(expected_memory_usage, 3)} Gb')"
   ]
  },
  {
   "cell_type": "markdown",
   "metadata": {},
   "source": [
    "* Итого, если у вас обычный локальный компьютер, то скорее всего весь датасет в памяти не уместится - вам потребуется значительный объем RAM или дополнительные ресурсы. Решение - читать данные итеративно. Партиции организованы таким образом, что  для конкретного клиента вся информация о его транзакциях до момента подачи заявки на кредит расположена внутри одной партиции (транзакции сгруппированы по полю `app_id`). Это позволяет загружать данные в память кусками, выделять все необходимые признаки и получать результирующий фрейм для моделирования. Для этих целей мы предоставляем вам функцию `utils.read_parquet_dataset_from_local`.\n",
    "\n",
    "Так же все партиции с транзакциями упорядочены по возрастанию даты."
   ]
  },
  {
   "cell_type": "code",
   "execution_count": 5,
   "metadata": {},
   "outputs": [
    {
     "data": {
      "text/plain": [
       "21628"
      ]
     },
     "execution_count": 5,
     "metadata": {},
     "output_type": "execute_result"
    }
   ],
   "source": [
    "del transactions_frame\n",
    "gc.collect()"
   ]
  },
  {
   "cell_type": "markdown",
   "metadata": {},
   "source": [
    "# read and analyse one parquet"
   ]
  },
  {
   "cell_type": "code",
   "execution_count": 12,
   "metadata": {},
   "outputs": [
    {
     "data": {
      "text/html": [
       "<div>\n",
       "<style scoped>\n",
       "    .dataframe tbody tr th:only-of-type {\n",
       "        vertical-align: middle;\n",
       "    }\n",
       "\n",
       "    .dataframe tbody tr th {\n",
       "        vertical-align: top;\n",
       "    }\n",
       "\n",
       "    .dataframe thead th {\n",
       "        text-align: right;\n",
       "    }\n",
       "</style>\n",
       "<table border=\"1\" class=\"dataframe\">\n",
       "  <thead>\n",
       "    <tr style=\"text-align: right;\">\n",
       "      <th></th>\n",
       "      <th>app_id</th>\n",
       "      <th>amnt</th>\n",
       "      <th>currency</th>\n",
       "      <th>operation_kind</th>\n",
       "      <th>card_type</th>\n",
       "      <th>operation_type</th>\n",
       "      <th>operation_type_group</th>\n",
       "      <th>ecommerce_flag</th>\n",
       "      <th>payment_system</th>\n",
       "      <th>income_flag</th>\n",
       "      <th>mcc</th>\n",
       "      <th>country</th>\n",
       "      <th>city</th>\n",
       "      <th>mcc_category</th>\n",
       "      <th>day_of_week</th>\n",
       "      <th>hour</th>\n",
       "      <th>days_before</th>\n",
       "      <th>weekofyear</th>\n",
       "      <th>hour_diff</th>\n",
       "      <th>transaction_number</th>\n",
       "    </tr>\n",
       "  </thead>\n",
       "  <tbody>\n",
       "    <tr>\n",
       "      <th>0</th>\n",
       "      <td>0</td>\n",
       "      <td>0.465425</td>\n",
       "      <td>1</td>\n",
       "      <td>4</td>\n",
       "      <td>98</td>\n",
       "      <td>4</td>\n",
       "      <td>2</td>\n",
       "      <td>3</td>\n",
       "      <td>7</td>\n",
       "      <td>3</td>\n",
       "      <td>2</td>\n",
       "      <td>1</td>\n",
       "      <td>37</td>\n",
       "      <td>2</td>\n",
       "      <td>4</td>\n",
       "      <td>19</td>\n",
       "      <td>351</td>\n",
       "      <td>34</td>\n",
       "      <td>-1</td>\n",
       "      <td>1</td>\n",
       "    </tr>\n",
       "    <tr>\n",
       "      <th>1</th>\n",
       "      <td>0</td>\n",
       "      <td>0.000000</td>\n",
       "      <td>1</td>\n",
       "      <td>2</td>\n",
       "      <td>98</td>\n",
       "      <td>7</td>\n",
       "      <td>1</td>\n",
       "      <td>3</td>\n",
       "      <td>7</td>\n",
       "      <td>3</td>\n",
       "      <td>2</td>\n",
       "      <td>1</td>\n",
       "      <td>49</td>\n",
       "      <td>2</td>\n",
       "      <td>4</td>\n",
       "      <td>20</td>\n",
       "      <td>351</td>\n",
       "      <td>34</td>\n",
       "      <td>0</td>\n",
       "      <td>2</td>\n",
       "    </tr>\n",
       "    <tr>\n",
       "      <th>2</th>\n",
       "      <td>0</td>\n",
       "      <td>0.521152</td>\n",
       "      <td>1</td>\n",
       "      <td>2</td>\n",
       "      <td>98</td>\n",
       "      <td>3</td>\n",
       "      <td>1</td>\n",
       "      <td>3</td>\n",
       "      <td>7</td>\n",
       "      <td>3</td>\n",
       "      <td>2</td>\n",
       "      <td>1</td>\n",
       "      <td>37</td>\n",
       "      <td>2</td>\n",
       "      <td>4</td>\n",
       "      <td>20</td>\n",
       "      <td>351</td>\n",
       "      <td>34</td>\n",
       "      <td>0</td>\n",
       "      <td>3</td>\n",
       "    </tr>\n",
       "    <tr>\n",
       "      <th>3</th>\n",
       "      <td>0</td>\n",
       "      <td>0.356078</td>\n",
       "      <td>1</td>\n",
       "      <td>1</td>\n",
       "      <td>5</td>\n",
       "      <td>2</td>\n",
       "      <td>1</td>\n",
       "      <td>3</td>\n",
       "      <td>7</td>\n",
       "      <td>3</td>\n",
       "      <td>10</td>\n",
       "      <td>1</td>\n",
       "      <td>49</td>\n",
       "      <td>7</td>\n",
       "      <td>2</td>\n",
       "      <td>0</td>\n",
       "      <td>348</td>\n",
       "      <td>34</td>\n",
       "      <td>52</td>\n",
       "      <td>4</td>\n",
       "    </tr>\n",
       "    <tr>\n",
       "      <th>4</th>\n",
       "      <td>0</td>\n",
       "      <td>0.000000</td>\n",
       "      <td>1</td>\n",
       "      <td>2</td>\n",
       "      <td>98</td>\n",
       "      <td>7</td>\n",
       "      <td>1</td>\n",
       "      <td>3</td>\n",
       "      <td>7</td>\n",
       "      <td>3</td>\n",
       "      <td>2</td>\n",
       "      <td>1</td>\n",
       "      <td>49</td>\n",
       "      <td>2</td>\n",
       "      <td>4</td>\n",
       "      <td>16</td>\n",
       "      <td>337</td>\n",
       "      <td>53</td>\n",
       "      <td>280</td>\n",
       "      <td>5</td>\n",
       "    </tr>\n",
       "    <tr>\n",
       "      <th>...</th>\n",
       "      <td>...</td>\n",
       "      <td>...</td>\n",
       "      <td>...</td>\n",
       "      <td>...</td>\n",
       "      <td>...</td>\n",
       "      <td>...</td>\n",
       "      <td>...</td>\n",
       "      <td>...</td>\n",
       "      <td>...</td>\n",
       "      <td>...</td>\n",
       "      <td>...</td>\n",
       "      <td>...</td>\n",
       "      <td>...</td>\n",
       "      <td>...</td>\n",
       "      <td>...</td>\n",
       "      <td>...</td>\n",
       "      <td>...</td>\n",
       "      <td>...</td>\n",
       "      <td>...</td>\n",
       "      <td>...</td>\n",
       "    </tr>\n",
       "    <tr>\n",
       "      <th>5408643</th>\n",
       "      <td>23646</td>\n",
       "      <td>0.390944</td>\n",
       "      <td>1</td>\n",
       "      <td>1</td>\n",
       "      <td>37</td>\n",
       "      <td>2</td>\n",
       "      <td>1</td>\n",
       "      <td>1</td>\n",
       "      <td>3</td>\n",
       "      <td>1</td>\n",
       "      <td>1</td>\n",
       "      <td>1</td>\n",
       "      <td>3</td>\n",
       "      <td>1</td>\n",
       "      <td>6</td>\n",
       "      <td>9</td>\n",
       "      <td>2</td>\n",
       "      <td>48</td>\n",
       "      <td>32</td>\n",
       "      <td>453</td>\n",
       "    </tr>\n",
       "    <tr>\n",
       "      <th>5408644</th>\n",
       "      <td>23646</td>\n",
       "      <td>0.428447</td>\n",
       "      <td>1</td>\n",
       "      <td>1</td>\n",
       "      <td>37</td>\n",
       "      <td>2</td>\n",
       "      <td>1</td>\n",
       "      <td>1</td>\n",
       "      <td>3</td>\n",
       "      <td>1</td>\n",
       "      <td>39</td>\n",
       "      <td>1</td>\n",
       "      <td>120</td>\n",
       "      <td>7</td>\n",
       "      <td>5</td>\n",
       "      <td>12</td>\n",
       "      <td>1</td>\n",
       "      <td>48</td>\n",
       "      <td>27</td>\n",
       "      <td>454</td>\n",
       "    </tr>\n",
       "    <tr>\n",
       "      <th>5408645</th>\n",
       "      <td>23646</td>\n",
       "      <td>0.371478</td>\n",
       "      <td>1</td>\n",
       "      <td>1</td>\n",
       "      <td>37</td>\n",
       "      <td>2</td>\n",
       "      <td>1</td>\n",
       "      <td>1</td>\n",
       "      <td>3</td>\n",
       "      <td>1</td>\n",
       "      <td>22</td>\n",
       "      <td>1</td>\n",
       "      <td>2</td>\n",
       "      <td>9</td>\n",
       "      <td>5</td>\n",
       "      <td>13</td>\n",
       "      <td>1</td>\n",
       "      <td>48</td>\n",
       "      <td>1</td>\n",
       "      <td>455</td>\n",
       "    </tr>\n",
       "    <tr>\n",
       "      <th>5408646</th>\n",
       "      <td>23646</td>\n",
       "      <td>0.348726</td>\n",
       "      <td>1</td>\n",
       "      <td>1</td>\n",
       "      <td>37</td>\n",
       "      <td>2</td>\n",
       "      <td>1</td>\n",
       "      <td>1</td>\n",
       "      <td>3</td>\n",
       "      <td>1</td>\n",
       "      <td>22</td>\n",
       "      <td>1</td>\n",
       "      <td>3</td>\n",
       "      <td>9</td>\n",
       "      <td>5</td>\n",
       "      <td>13</td>\n",
       "      <td>1</td>\n",
       "      <td>48</td>\n",
       "      <td>1</td>\n",
       "      <td>456</td>\n",
       "    </tr>\n",
       "    <tr>\n",
       "      <th>5408647</th>\n",
       "      <td>23646</td>\n",
       "      <td>0.324316</td>\n",
       "      <td>1</td>\n",
       "      <td>1</td>\n",
       "      <td>37</td>\n",
       "      <td>2</td>\n",
       "      <td>1</td>\n",
       "      <td>1</td>\n",
       "      <td>3</td>\n",
       "      <td>1</td>\n",
       "      <td>1</td>\n",
       "      <td>1</td>\n",
       "      <td>3</td>\n",
       "      <td>1</td>\n",
       "      <td>5</td>\n",
       "      <td>14</td>\n",
       "      <td>1</td>\n",
       "      <td>48</td>\n",
       "      <td>1</td>\n",
       "      <td>457</td>\n",
       "    </tr>\n",
       "  </tbody>\n",
       "</table>\n",
       "<p>5408648 rows × 20 columns</p>\n",
       "</div>"
      ],
      "text/plain": [
       "         app_id      amnt  currency  operation_kind  card_type  \\\n",
       "0             0  0.465425         1               4         98   \n",
       "1             0  0.000000         1               2         98   \n",
       "2             0  0.521152         1               2         98   \n",
       "3             0  0.356078         1               1          5   \n",
       "4             0  0.000000         1               2         98   \n",
       "...         ...       ...       ...             ...        ...   \n",
       "5408643   23646  0.390944         1               1         37   \n",
       "5408644   23646  0.428447         1               1         37   \n",
       "5408645   23646  0.371478         1               1         37   \n",
       "5408646   23646  0.348726         1               1         37   \n",
       "5408647   23646  0.324316         1               1         37   \n",
       "\n",
       "         operation_type  operation_type_group  ecommerce_flag  payment_system  \\\n",
       "0                     4                     2               3               7   \n",
       "1                     7                     1               3               7   \n",
       "2                     3                     1               3               7   \n",
       "3                     2                     1               3               7   \n",
       "4                     7                     1               3               7   \n",
       "...                 ...                   ...             ...             ...   \n",
       "5408643               2                     1               1               3   \n",
       "5408644               2                     1               1               3   \n",
       "5408645               2                     1               1               3   \n",
       "5408646               2                     1               1               3   \n",
       "5408647               2                     1               1               3   \n",
       "\n",
       "         income_flag  mcc  country  city  mcc_category  day_of_week  hour  \\\n",
       "0                  3    2        1    37             2            4    19   \n",
       "1                  3    2        1    49             2            4    20   \n",
       "2                  3    2        1    37             2            4    20   \n",
       "3                  3   10        1    49             7            2     0   \n",
       "4                  3    2        1    49             2            4    16   \n",
       "...              ...  ...      ...   ...           ...          ...   ...   \n",
       "5408643            1    1        1     3             1            6     9   \n",
       "5408644            1   39        1   120             7            5    12   \n",
       "5408645            1   22        1     2             9            5    13   \n",
       "5408646            1   22        1     3             9            5    13   \n",
       "5408647            1    1        1     3             1            5    14   \n",
       "\n",
       "         days_before  weekofyear  hour_diff  transaction_number  \n",
       "0                351          34         -1                   1  \n",
       "1                351          34          0                   2  \n",
       "2                351          34          0                   3  \n",
       "3                348          34         52                   4  \n",
       "4                337          53        280                   5  \n",
       "...              ...         ...        ...                 ...  \n",
       "5408643            2          48         32                 453  \n",
       "5408644            1          48         27                 454  \n",
       "5408645            1          48          1                 455  \n",
       "5408646            1          48          1                 456  \n",
       "5408647            1          48          1                 457  \n",
       "\n",
       "[5408648 rows x 20 columns]"
      ]
     },
     "execution_count": 12,
     "metadata": {},
     "output_type": "execute_result"
    }
   ],
   "source": [
    "transactions_frame"
   ]
  },
  {
   "cell_type": "code",
   "execution_count": 7,
   "metadata": {},
   "outputs": [
    {
     "data": {
      "text/plain": [
       "<AxesSubplot:>"
      ]
     },
     "execution_count": 7,
     "metadata": {},
     "output_type": "execute_result"
    },
    {
     "data": {
      "image/png": "[encoded data removed]",
      "text/plain": [
       "<Figure size 432x288 with 1 Axes>"
      ]
     },
     "metadata": {
      "needs_background": "light"
     },
     "output_type": "display_data"
    }
   ],
   "source": [
    "# is currency only 1 \n",
    "transactions_frame.currency.hist()"
   ]
  },
  {
   "cell_type": "code",
   "execution_count": 84,
   "metadata": {},
   "outputs": [],
   "source": [
    "transactions_frame.groupby('app_id')['currency'].nunique()\n",
    "temp=transactions_frame.groupby('app_id')['currency'].min() == 1\n",
    "temp=temp.astype('int')"
   ]
  },
  {
   "cell_type": "code",
   "execution_count": 20,
   "metadata": {},
   "outputs": [
    {
     "data": {
      "text/html": [
       "<div>\n",
       "<style scoped>\n",
       "    .dataframe tbody tr th:only-of-type {\n",
       "        vertical-align: middle;\n",
       "    }\n",
       "\n",
       "    .dataframe tbody tr th {\n",
       "        vertical-align: top;\n",
       "    }\n",
       "\n",
       "    .dataframe thead tr th {\n",
       "        text-align: left;\n",
       "    }\n",
       "\n",
       "    .dataframe thead tr:last-of-type th {\n",
       "        text-align: right;\n",
       "    }\n",
       "</style>\n",
       "<table border=\"1\" class=\"dataframe\">\n",
       "  <thead>\n",
       "    <tr>\n",
       "      <th></th>\n",
       "      <th colspan=\"3\" halign=\"left\">count</th>\n",
       "    </tr>\n",
       "    <tr>\n",
       "      <th>operation_type_group</th>\n",
       "      <th>1</th>\n",
       "      <th>2</th>\n",
       "      <th>3</th>\n",
       "    </tr>\n",
       "    <tr>\n",
       "      <th>app_id</th>\n",
       "      <th></th>\n",
       "      <th></th>\n",
       "      <th></th>\n",
       "    </tr>\n",
       "  </thead>\n",
       "  <tbody>\n",
       "    <tr>\n",
       "      <th>0</th>\n",
       "      <td>170</td>\n",
       "      <td>11</td>\n",
       "      <td>0</td>\n",
       "    </tr>\n",
       "    <tr>\n",
       "      <th>1</th>\n",
       "      <td>347</td>\n",
       "      <td>9</td>\n",
       "      <td>0</td>\n",
       "    </tr>\n",
       "    <tr>\n",
       "      <th>2</th>\n",
       "      <td>223</td>\n",
       "      <td>5</td>\n",
       "      <td>1</td>\n",
       "    </tr>\n",
       "    <tr>\n",
       "      <th>3</th>\n",
       "      <td>65</td>\n",
       "      <td>2</td>\n",
       "      <td>0</td>\n",
       "    </tr>\n",
       "    <tr>\n",
       "      <th>4</th>\n",
       "      <td>100</td>\n",
       "      <td>17</td>\n",
       "      <td>0</td>\n",
       "    </tr>\n",
       "    <tr>\n",
       "      <th>...</th>\n",
       "      <td>...</td>\n",
       "      <td>...</td>\n",
       "      <td>...</td>\n",
       "    </tr>\n",
       "    <tr>\n",
       "      <th>23642</th>\n",
       "      <td>141</td>\n",
       "      <td>20</td>\n",
       "      <td>0</td>\n",
       "    </tr>\n",
       "    <tr>\n",
       "      <th>23643</th>\n",
       "      <td>170</td>\n",
       "      <td>25</td>\n",
       "      <td>4</td>\n",
       "    </tr>\n",
       "    <tr>\n",
       "      <th>23644</th>\n",
       "      <td>392</td>\n",
       "      <td>12</td>\n",
       "      <td>0</td>\n",
       "    </tr>\n",
       "    <tr>\n",
       "      <th>23645</th>\n",
       "      <td>194</td>\n",
       "      <td>3</td>\n",
       "      <td>0</td>\n",
       "    </tr>\n",
       "    <tr>\n",
       "      <th>23646</th>\n",
       "      <td>448</td>\n",
       "      <td>9</td>\n",
       "      <td>0</td>\n",
       "    </tr>\n",
       "  </tbody>\n",
       "</table>\n",
       "<p>22743 rows × 3 columns</p>\n",
       "</div>"
      ],
      "text/plain": [
       "                     count       \n",
       "operation_type_group     1   2  3\n",
       "app_id                           \n",
       "0                      170  11  0\n",
       "1                      347   9  0\n",
       "2                      223   5  1\n",
       "3                       65   2  0\n",
       "4                      100  17  0\n",
       "...                    ...  .. ..\n",
       "23642                  141  20  0\n",
       "23643                  170  25  4\n",
       "23644                  392  12  0\n",
       "23645                  194   3  0\n",
       "23646                  448   9  0\n",
       "\n",
       "[22743 rows x 3 columns]"
      ]
     },
     "execution_count": 20,
     "metadata": {},
     "output_type": "execute_result"
    }
   ],
   "source": [
    "# count each type \n",
    "#transactions_frame.groupby('app_id')['operation_type_group'].value_counts()\n",
    "\n",
    "pd.pivot_table(transactions_frame,\n",
    "               values='currency',\n",
    "               columns=['operation_type_group'],\n",
    "               index=['app_id'],\n",
    "               aggfunc=['count'],\n",
    "               fill_value=0)"
   ]
  },
  {
   "cell_type": "code",
   "execution_count": 22,
   "metadata": {},
   "outputs": [
    {
     "data": {
      "text/html": [
       "<div>\n",
       "<style scoped>\n",
       "    .dataframe tbody tr th:only-of-type {\n",
       "        vertical-align: middle;\n",
       "    }\n",
       "\n",
       "    .dataframe tbody tr th {\n",
       "        vertical-align: top;\n",
       "    }\n",
       "\n",
       "    .dataframe thead tr th {\n",
       "        text-align: left;\n",
       "    }\n",
       "\n",
       "    .dataframe thead tr:last-of-type th {\n",
       "        text-align: right;\n",
       "    }\n",
       "</style>\n",
       "<table border=\"1\" class=\"dataframe\">\n",
       "  <thead>\n",
       "    <tr>\n",
       "      <th></th>\n",
       "      <th colspan=\"3\" halign=\"left\">count</th>\n",
       "    </tr>\n",
       "    <tr>\n",
       "      <th>ecommerce_flag</th>\n",
       "      <th>1</th>\n",
       "      <th>2</th>\n",
       "      <th>3</th>\n",
       "    </tr>\n",
       "    <tr>\n",
       "      <th>app_id</th>\n",
       "      <th></th>\n",
       "      <th></th>\n",
       "      <th></th>\n",
       "    </tr>\n",
       "  </thead>\n",
       "  <tbody>\n",
       "    <tr>\n",
       "      <th>0</th>\n",
       "      <td>169</td>\n",
       "      <td>6</td>\n",
       "      <td>6</td>\n",
       "    </tr>\n",
       "    <tr>\n",
       "      <th>1</th>\n",
       "      <td>299</td>\n",
       "      <td>53</td>\n",
       "      <td>4</td>\n",
       "    </tr>\n",
       "    <tr>\n",
       "      <th>2</th>\n",
       "      <td>139</td>\n",
       "      <td>83</td>\n",
       "      <td>7</td>\n",
       "    </tr>\n",
       "    <tr>\n",
       "      <th>3</th>\n",
       "      <td>53</td>\n",
       "      <td>14</td>\n",
       "      <td>0</td>\n",
       "    </tr>\n",
       "    <tr>\n",
       "      <th>4</th>\n",
       "      <td>83</td>\n",
       "      <td>25</td>\n",
       "      <td>9</td>\n",
       "    </tr>\n",
       "    <tr>\n",
       "      <th>...</th>\n",
       "      <td>...</td>\n",
       "      <td>...</td>\n",
       "      <td>...</td>\n",
       "    </tr>\n",
       "    <tr>\n",
       "      <th>23642</th>\n",
       "      <td>134</td>\n",
       "      <td>27</td>\n",
       "      <td>0</td>\n",
       "    </tr>\n",
       "    <tr>\n",
       "      <th>23643</th>\n",
       "      <td>149</td>\n",
       "      <td>50</td>\n",
       "      <td>0</td>\n",
       "    </tr>\n",
       "    <tr>\n",
       "      <th>23644</th>\n",
       "      <td>386</td>\n",
       "      <td>18</td>\n",
       "      <td>0</td>\n",
       "    </tr>\n",
       "    <tr>\n",
       "      <th>23645</th>\n",
       "      <td>186</td>\n",
       "      <td>11</td>\n",
       "      <td>0</td>\n",
       "    </tr>\n",
       "    <tr>\n",
       "      <th>23646</th>\n",
       "      <td>428</td>\n",
       "      <td>29</td>\n",
       "      <td>0</td>\n",
       "    </tr>\n",
       "  </tbody>\n",
       "</table>\n",
       "<p>22743 rows × 3 columns</p>\n",
       "</div>"
      ],
      "text/plain": [
       "               count       \n",
       "ecommerce_flag     1   2  3\n",
       "app_id                     \n",
       "0                169   6  6\n",
       "1                299  53  4\n",
       "2                139  83  7\n",
       "3                 53  14  0\n",
       "4                 83  25  9\n",
       "...              ...  .. ..\n",
       "23642            134  27  0\n",
       "23643            149  50  0\n",
       "23644            386  18  0\n",
       "23645            186  11  0\n",
       "23646            428  29  0\n",
       "\n",
       "[22743 rows x 3 columns]"
      ]
     },
     "execution_count": 22,
     "metadata": {},
     "output_type": "execute_result"
    }
   ],
   "source": [
    "pd.pivot_table(transactions_frame,\n",
    "               values='currency',\n",
    "               columns=['ecommerce_flag'],\n",
    "               index=['app_id'],\n",
    "               aggfunc=['count'],\n",
    "               fill_value=0)"
   ]
  },
  {
   "cell_type": "markdown",
   "metadata": {},
   "source": [
    "OHE coding\n",
    "* sum of currency\n",
    "* aggregate amnt and operation_kind\n",
    "* card_type -> count, min, max\n",
    "* operation_type "
   ]
  },
  {
   "cell_type": "markdown",
   "metadata": {},
   "source": [
    "### 2. Feature Extraction"
   ]
  },
  {
   "cell_type": "markdown",
   "metadata": {},
   "source": [
    "* В рамках конкурса участникам предстоит работать с историей транзакций клиентов. На основе истории транзакций нужно оценить насколько благонадежным является клиент и определить, шансы того, что он уйдет в дефолт. В качестве признаков участники будут использовать характеристики клиентских транзакций: сумму транзакции, категорию транзакции, время и многие другие. Подробнее можно будет узнать на странице конкурса.\n",
    "\n",
    "\n",
    "* Для бейзлайна мы подготовили функцию `features.extract_basic_aggregations`, она делает следующее:\n",
    "     * на основе признака суммы транзакции `amnt` строит pivot_table для указанных категориальных признаков `cat_columns` и перечисленных функций агрегации. То есть, например, если в качестве агрегирующих функций указаны ['sum', 'mean', 'count'] и ['mcc_category'] в качестве `cat_columns`, то будут посчитаны общая сумма/среднее/количество транзакций по каждой конкретной категории признака `mcc_category`. Признаки расчитываются на основе фрейма транзакций для каждого клиента. \n",
    "     \n",
    "     * Для численных признаков, таких как `amnt`, `hour_diff`, `days_before` расчитываются осмысленные статистики: минимум/максмимум/медиана/среднее...\n",
    "     \n",
    "     \n",
    " * Для обработки лога транзакций предлагается использовать функцию `prepare_transactions_dataset` ниже:"
   ]
  },
  {
   "cell_type": "code",
   "execution_count": 27,
   "metadata": {},
   "outputs": [],
   "source": [
    "! rm -r ../preprocessed_transactions/\n",
    "! mkdir ../preprocessed_transactions/"
   ]
  },
  {
   "cell_type": "code",
   "execution_count": 6,
   "metadata": {},
   "outputs": [],
   "source": [
    "# константны для признаков танзакции\n",
    "\n",
    "CAT_COLUMNS = ['currency', 'operation_kind', 'card_type',\n",
    "               'operation_type', 'operation_type_group', 'ecommerce_flag',\n",
    "               'payment_system', 'income_flag', 'mcc', 'country', 'city',\n",
    "               'mcc_category', 'day_of_week', 'hour','weekofyear']\n",
    "\n",
    "NUMERIC_COLUMNS = ['days_before', 'hour_diff']\n",
    "\n",
    "REAL_COLUMNS = ['amnt']\n",
    "\n",
    "\n",
    "def __amnt_pivot_table_by_column_as_frame(frame, column, agg_funcs=None) -> pd.DataFrame:\n",
    "    \"\"\"\n",
    "    Строит pivot table для между колонкой `amnt`  и column на основе переданных aggregations_on\n",
    "    :param frame: pd.DataFrame транзакций\n",
    "    :param column: название колонки, на основе `amnt`  и column будет построен pivot_table\n",
    "    :param agg_funcs: список из функций, которые нужно применить, по умолчанию ['mean', 'count']\n",
    "    :return: pd.DataFrame\n",
    "    \"\"\"\n",
    "    if agg_funcs is None:\n",
    "        agg_funcs = ['mean', 'count']\n",
    "    aggs = pd.pivot_table(frame, values='amnt',\n",
    "                          index=['app_id'], columns=[column],\n",
    "                          aggfunc={'amnt': agg_funcs},\n",
    "                          fill_value=0.0)\n",
    "    aggs.columns = [f'{col[0]}_{column}_{col[1]}' for col in aggs.columns.values]\n",
    "    return aggs\n",
    "\n",
    "\n",
    "def extract_basic_aggregations(transactions_frame: pd.DataFrame, cat_columns=None, agg_funcs=None) -> pd.DataFrame:\n",
    "    \"\"\"\n",
    "    :param transactions_frame: pd.DataFrame с транзакциями\n",
    "    :param cat_columns: список категориальных переменных, для которых будут построены агрегаты по `amnt`\n",
    "    :param agg_funcs: список функций, который нужно применить для подсчета агрегатов, по умолчанию\n",
    "    ['sum', 'mean', 'count']\n",
    "    :return: pd.DataFrame с извлеченными признаками\n",
    "    \"\"\"\n",
    "    if not cat_columns:\n",
    "        cat_columns = CAT_COLUMNS\n",
    "\n",
    "    pivot_tables = []\n",
    "    for col in cat_columns:\n",
    "        pivot_tables.append(__amnt_pivot_table_by_column_as_frame(transactions_frame, column=col,\n",
    "                                                                  agg_funcs=agg_funcs))\n",
    "    pivot_tables = pd.concat(pivot_tables, axis=1)\n",
    "\n",
    "    aggs = {\n",
    "        # посчитаем статистики для транзакций\n",
    "        'amnt': ['mean', 'median', 'sum', 'std'],\n",
    "        # посчитаем разумные агрегаты для разницы в часах между транзакциями\n",
    "        'hour_diff': ['max', 'mean', 'median', 'var', 'std'],\n",
    "        # добавим самую раннюю/позднюю и среднюю дату транзакции до подачи заявки на кредит\n",
    "        'days_before': ['min', 'max', 'median']}\n",
    "\n",
    "    numeric_stats = transactions_frame.groupby(['app_id']).agg(aggs)\n",
    "\n",
    "    # дадим разумные имена новым колонкам; может не работать в python 3.5, так как порядок ключей в словаре не\n",
    "    # гарантирован\n",
    "    numeric_stats.columns = [k + '_' + agg for k in aggs.keys() for agg in aggs[k]]\n",
    "\n",
    "    return pd.concat([pivot_tables, numeric_stats], axis=1).reset_index()\n"
   ]
  },
  {
   "cell_type": "code",
   "execution_count": 7,
   "metadata": {},
   "outputs": [],
   "source": [
    "features = extract_basic_aggregations(transactions_frame, \n",
    "                                              cat_columns=['mcc_category', 'operation_type'])"
   ]
  },
  {
   "cell_type": "code",
   "execution_count": 14,
   "metadata": {},
   "outputs": [],
   "source": [
    "frame = transactions_frame\n",
    "\n",
    "col = ['mcc_category', 'operation_type'][0]\n",
    "\n",
    "agg_funcs = None\n",
    "if agg_funcs is None:\n",
    "        agg_funcs = ['mean', 'count']\n",
    "\n",
    "aggs = pd.pivot_table(frame, values='amnt',\n",
    "                      index=['app_id'], columns=[col],\n",
    "                      aggfunc={'amnt': agg_funcs},\n",
    "                      fill_value=0.0)\n",
    "#aggs.columns = [f'{col[0]}_{col}_{col[1]}' for col in aggs.columns.values]"
   ]
  },
  {
   "cell_type": "code",
   "execution_count": 4,
   "metadata": {},
   "outputs": [],
   "source": [
    "from features import extract_basic_aggregations\n",
    "\n",
    "def prepare_transactions_dataset(path_to_dataset: str, \n",
    "                                 num_parts_to_preprocess_at_once: int = 1, \n",
    "                                 num_parts_total: int=50, \n",
    "                                 save_to_path=None, \n",
    "                                 verbose: bool=False):\n",
    "    \"\"\"\n",
    "    возвращает готовый pd.DataFrame с признаками, на которых можно учить модель для целевой задачи.\n",
    "    path_to_dataset: str  \n",
    "        путь до датасета с партициями\n",
    "    num_parts_to_preprocess_at_once: int \n",
    "        количество партиций, которые будут одновременно держаться в памяти и обрабатываться\n",
    "    num_parts_total: int \n",
    "        общее количество партиций, которые нужно обработать\n",
    "    save_to_path: str\n",
    "        путь до папки, в которой будет сохранен каждый обработанный блок в .parquet формате. Если None, то не будет сохранен \n",
    "    verbose: bool\n",
    "        логирует каждый обрабатываемый кусок данных\n",
    "    \"\"\"\n",
    "    preprocessed_frames = []\n",
    "    block = 0\n",
    "    for step in tqdm.tqdm_notebook(range(0, num_parts_total, num_parts_to_preprocess_at_once), \n",
    "                                   desc=\"Transforming transactions data\"):\n",
    "        transactions_frame = read_parquet_dataset_from_local(path_to_dataset, step, num_parts_to_preprocess_at_once, \n",
    "                                                             verbose=verbose)\n",
    "        features = extract_basic_aggregations(transactions_frame, \n",
    "                                              cat_columns=['mcc_category', 'operation_type'])\n",
    "        if save_to_path:\n",
    "            block_as_str = str(block)\n",
    "            if len(block_as_str) == 1:\n",
    "                block_as_str = '00' + block_as_str\n",
    "            else:\n",
    "                block_as_str = '0' + block_as_str\n",
    "            features.to_parquet(os.path.join(save_to_path, f'processed_chunk_{block_as_str}.parquet'))\n",
    "            block +=1\n",
    "            \n",
    "        preprocessed_frames.append(features)\n",
    "    return pd.concat(preprocessed_frames)"
   ]
  },
  {
   "cell_type": "code",
   "execution_count": 19,
   "metadata": {},
   "outputs": [],
   "source": [
    "features = extract_basic_aggregations(transactions_frame, \n",
    "                                              cat_columns=['mcc_category', 'operation_type'])"
   ]
  },
  {
   "cell_type": "code",
   "execution_count": 21,
   "metadata": {},
   "outputs": [
    {
     "data": {
      "text/plain": [
       "['app_id',\n",
       " 'count_mcc_category_1',\n",
       " 'count_mcc_category_2',\n",
       " 'count_mcc_category_3',\n",
       " 'count_mcc_category_4',\n",
       " 'count_mcc_category_5',\n",
       " 'count_mcc_category_6',\n",
       " 'count_mcc_category_7',\n",
       " 'count_mcc_category_8',\n",
       " 'count_mcc_category_9',\n",
       " 'count_mcc_category_10',\n",
       " 'count_mcc_category_11',\n",
       " 'count_mcc_category_12',\n",
       " 'count_mcc_category_13',\n",
       " 'count_mcc_category_14',\n",
       " 'count_mcc_category_15',\n",
       " 'count_mcc_category_16',\n",
       " 'count_mcc_category_17',\n",
       " 'count_mcc_category_18',\n",
       " 'count_mcc_category_19',\n",
       " 'count_mcc_category_20',\n",
       " 'count_mcc_category_21',\n",
       " 'count_mcc_category_22',\n",
       " 'count_mcc_category_23',\n",
       " 'count_mcc_category_24',\n",
       " 'count_mcc_category_25',\n",
       " 'count_mcc_category_26',\n",
       " 'count_mcc_category_27',\n",
       " 'count_mcc_category_28',\n",
       " 'mean_mcc_category_1',\n",
       " 'mean_mcc_category_2',\n",
       " 'mean_mcc_category_3',\n",
       " 'mean_mcc_category_4',\n",
       " 'mean_mcc_category_5',\n",
       " 'mean_mcc_category_6',\n",
       " 'mean_mcc_category_7',\n",
       " 'mean_mcc_category_8',\n",
       " 'mean_mcc_category_9',\n",
       " 'mean_mcc_category_10',\n",
       " 'mean_mcc_category_11',\n",
       " 'mean_mcc_category_12',\n",
       " 'mean_mcc_category_13',\n",
       " 'mean_mcc_category_14',\n",
       " 'mean_mcc_category_15',\n",
       " 'mean_mcc_category_16',\n",
       " 'mean_mcc_category_17',\n",
       " 'mean_mcc_category_18',\n",
       " 'mean_mcc_category_19',\n",
       " 'mean_mcc_category_20',\n",
       " 'mean_mcc_category_21',\n",
       " 'mean_mcc_category_22',\n",
       " 'mean_mcc_category_23',\n",
       " 'mean_mcc_category_24',\n",
       " 'mean_mcc_category_25',\n",
       " 'mean_mcc_category_26',\n",
       " 'mean_mcc_category_27',\n",
       " 'mean_mcc_category_28',\n",
       " 'count_operation_type_1',\n",
       " 'count_operation_type_2',\n",
       " 'count_operation_type_3',\n",
       " 'count_operation_type_4',\n",
       " 'count_operation_type_5',\n",
       " 'count_operation_type_6',\n",
       " 'count_operation_type_7',\n",
       " 'count_operation_type_8',\n",
       " 'count_operation_type_9',\n",
       " 'count_operation_type_10',\n",
       " 'count_operation_type_11',\n",
       " 'count_operation_type_13',\n",
       " 'count_operation_type_14',\n",
       " 'count_operation_type_15',\n",
       " 'count_operation_type_16',\n",
       " 'count_operation_type_17',\n",
       " 'count_operation_type_19',\n",
       " 'count_operation_type_20',\n",
       " 'count_operation_type_21',\n",
       " 'count_operation_type_22',\n",
       " 'mean_operation_type_1',\n",
       " 'mean_operation_type_2',\n",
       " 'mean_operation_type_3',\n",
       " 'mean_operation_type_4',\n",
       " 'mean_operation_type_5',\n",
       " 'mean_operation_type_6',\n",
       " 'mean_operation_type_7',\n",
       " 'mean_operation_type_8',\n",
       " 'mean_operation_type_9',\n",
       " 'mean_operation_type_10',\n",
       " 'mean_operation_type_11',\n",
       " 'mean_operation_type_13',\n",
       " 'mean_operation_type_14',\n",
       " 'mean_operation_type_15',\n",
       " 'mean_operation_type_16',\n",
       " 'mean_operation_type_17',\n",
       " 'mean_operation_type_19',\n",
       " 'mean_operation_type_20',\n",
       " 'mean_operation_type_21',\n",
       " 'mean_operation_type_22',\n",
       " 'amnt_mean',\n",
       " 'amnt_median',\n",
       " 'amnt_sum',\n",
       " 'amnt_std',\n",
       " 'hour_diff_max',\n",
       " 'hour_diff_mean',\n",
       " 'hour_diff_median',\n",
       " 'hour_diff_var',\n",
       " 'hour_diff_std',\n",
       " 'days_before_min',\n",
       " 'days_before_max',\n",
       " 'days_before_median']"
      ]
     },
     "execution_count": 21,
     "metadata": {},
     "output_type": "execute_result"
    }
   ],
   "source": [
    "features.columns.tolist()"
   ]
  },
  {
   "cell_type": "code",
   "execution_count": 34,
   "metadata": {},
   "outputs": [
    {
     "name": "stderr",
     "output_type": "stream",
     "text": [
      "/tmp/ipykernel_42561/2496878583.py:23: TqdmDeprecationWarning: This function will be removed in tqdm==5.0.0\n",
      "Please use `tqdm.notebook.tqdm` instead of `tqdm.tqdm_notebook`\n",
      "  for step in tqdm.tqdm_notebook(range(0, num_parts_total, num_parts_to_preprocess_at_once),\n"
     ]
    },
    {
     "data": {
      "application/vnd.jupyter.widget-view+json": {
       "model_id": "0c84e1b2963243f2901a0fc54733054a",
       "version_major": 2,
       "version_minor": 0
      },
      "text/plain": [
       "Transforming transactions data:   0%|          | 0/17 [00:00<?, ?it/s]"
      ]
     },
     "metadata": {},
     "output_type": "display_data"
    },
    {
     "data": {
      "application/vnd.jupyter.widget-view+json": {
       "model_id": "873fe2baa6404522a916244a6ca0f36a",
       "version_major": 2,
       "version_minor": 0
      },
      "text/plain": [
       "Reading dataset with pandas:   0%|          | 0/3 [00:00<?, ?it/s]"
      ]
     },
     "metadata": {},
     "output_type": "display_data"
    },
    {
     "data": {
      "application/vnd.jupyter.widget-view+json": {
       "model_id": "3da8ab141da94efaa4aabeee5706f5fd",
       "version_major": 2,
       "version_minor": 0
      },
      "text/plain": [
       "Reading dataset with pandas:   0%|          | 0/3 [00:00<?, ?it/s]"
      ]
     },
     "metadata": {},
     "output_type": "display_data"
    },
    {
     "data": {
      "application/vnd.jupyter.widget-view+json": {
       "model_id": "524a1c43a48f4708b990d89010b220ee",
       "version_major": 2,
       "version_minor": 0
      },
      "text/plain": [
       "Reading dataset with pandas:   0%|          | 0/3 [00:00<?, ?it/s]"
      ]
     },
     "metadata": {},
     "output_type": "display_data"
    },
    {
     "data": {
      "application/vnd.jupyter.widget-view+json": {
       "model_id": "f48848cd42a44df6ab20719a1ff321db",
       "version_major": 2,
       "version_minor": 0
      },
      "text/plain": [
       "Reading dataset with pandas:   0%|          | 0/3 [00:00<?, ?it/s]"
      ]
     },
     "metadata": {},
     "output_type": "display_data"
    },
    {
     "data": {
      "application/vnd.jupyter.widget-view+json": {
       "model_id": "bbd8640c90d341779f20416a4a2bb69d",
       "version_major": 2,
       "version_minor": 0
      },
      "text/plain": [
       "Reading dataset with pandas:   0%|          | 0/3 [00:00<?, ?it/s]"
      ]
     },
     "metadata": {},
     "output_type": "display_data"
    },
    {
     "data": {
      "application/vnd.jupyter.widget-view+json": {
       "model_id": "78bc8d10cfe34c7786f7fbd811d7291c",
       "version_major": 2,
       "version_minor": 0
      },
      "text/plain": [
       "Reading dataset with pandas:   0%|          | 0/3 [00:00<?, ?it/s]"
      ]
     },
     "metadata": {},
     "output_type": "display_data"
    },
    {
     "data": {
      "application/vnd.jupyter.widget-view+json": {
       "model_id": "02358d8959ea4f6d9d7bb6201d1ad2ed",
       "version_major": 2,
       "version_minor": 0
      },
      "text/plain": [
       "Reading dataset with pandas:   0%|          | 0/3 [00:00<?, ?it/s]"
      ]
     },
     "metadata": {},
     "output_type": "display_data"
    },
    {
     "data": {
      "application/vnd.jupyter.widget-view+json": {
       "model_id": "f0403c5e9c9448fa9731d324359d8168",
       "version_major": 2,
       "version_minor": 0
      },
      "text/plain": [
       "Reading dataset with pandas:   0%|          | 0/3 [00:00<?, ?it/s]"
      ]
     },
     "metadata": {},
     "output_type": "display_data"
    },
    {
     "data": {
      "application/vnd.jupyter.widget-view+json": {
       "model_id": "d38fbfe7b6d54996a2a9b5044c730102",
       "version_major": 2,
       "version_minor": 0
      },
      "text/plain": [
       "Reading dataset with pandas:   0%|          | 0/3 [00:00<?, ?it/s]"
      ]
     },
     "metadata": {},
     "output_type": "display_data"
    },
    {
     "data": {
      "application/vnd.jupyter.widget-view+json": {
       "model_id": "a3fb00de2dac4591aa7653958e2593c8",
       "version_major": 2,
       "version_minor": 0
      },
      "text/plain": [
       "Reading dataset with pandas:   0%|          | 0/3 [00:00<?, ?it/s]"
      ]
     },
     "metadata": {},
     "output_type": "display_data"
    },
    {
     "data": {
      "application/vnd.jupyter.widget-view+json": {
       "model_id": "8e8a7b70ef6b445a854cca8f71062bce",
       "version_major": 2,
       "version_minor": 0
      },
      "text/plain": [
       "Reading dataset with pandas:   0%|          | 0/3 [00:00<?, ?it/s]"
      ]
     },
     "metadata": {},
     "output_type": "display_data"
    },
    {
     "data": {
      "application/vnd.jupyter.widget-view+json": {
       "model_id": "6d1a2befe4764eae9ffb191de284558e",
       "version_major": 2,
       "version_minor": 0
      },
      "text/plain": [
       "Reading dataset with pandas:   0%|          | 0/3 [00:00<?, ?it/s]"
      ]
     },
     "metadata": {},
     "output_type": "display_data"
    },
    {
     "data": {
      "application/vnd.jupyter.widget-view+json": {
       "model_id": "315e3bb9ef15417f818e60df4f955216",
       "version_major": 2,
       "version_minor": 0
      },
      "text/plain": [
       "Reading dataset with pandas:   0%|          | 0/3 [00:00<?, ?it/s]"
      ]
     },
     "metadata": {},
     "output_type": "display_data"
    },
    {
     "data": {
      "application/vnd.jupyter.widget-view+json": {
       "model_id": "8aedfe3355ac4eb592b6bf19f5aebf1d",
       "version_major": 2,
       "version_minor": 0
      },
      "text/plain": [
       "Reading dataset with pandas:   0%|          | 0/3 [00:00<?, ?it/s]"
      ]
     },
     "metadata": {},
     "output_type": "display_data"
    },
    {
     "data": {
      "application/vnd.jupyter.widget-view+json": {
       "model_id": "92050ae76f5a4cab916ad899962db9a1",
       "version_major": 2,
       "version_minor": 0
      },
      "text/plain": [
       "Reading dataset with pandas:   0%|          | 0/3 [00:00<?, ?it/s]"
      ]
     },
     "metadata": {},
     "output_type": "display_data"
    },
    {
     "data": {
      "application/vnd.jupyter.widget-view+json": {
       "model_id": "9c6c13c9d41f47ce868e92043506146e",
       "version_major": 2,
       "version_minor": 0
      },
      "text/plain": [
       "Reading dataset with pandas:   0%|          | 0/3 [00:00<?, ?it/s]"
      ]
     },
     "metadata": {},
     "output_type": "display_data"
    },
    {
     "data": {
      "application/vnd.jupyter.widget-view+json": {
       "model_id": "692e8573676846f7869b68aeaa64cd63",
       "version_major": 2,
       "version_minor": 0
      },
      "text/plain": [
       "Reading dataset with pandas:   0%|          | 0/2 [00:00<?, ?it/s]"
      ]
     },
     "metadata": {},
     "output_type": "display_data"
    }
   ],
   "source": [
    "data = prepare_transactions_dataset(TRAIN_TRANSACTIONS_PATH, num_parts_to_preprocess_at_once=3, num_parts_total=50, \n",
    "                                    save_to_path='../preprocessed_transactions/')"
   ]
  },
  {
   "cell_type": "code",
   "execution_count": 9,
   "metadata": {},
   "outputs": [
    {
     "name": "stdout",
     "output_type": "stream",
     "text": [
      "Объем в RAM всего датасета: 0.979 Gb\n"
     ]
    }
   ],
   "source": [
    "print(f'Объем в RAM всего датасета: {round(data.memory_usage(index=True).sum() / 10**9, 3)} Gb')"
   ]
  },
  {
   "cell_type": "markdown",
   "metadata": {},
   "source": [
    "* Обработаем тестовый набор данных и выделим все признаки:"
   ]
  },
  {
   "cell_type": "code",
   "execution_count": 2,
   "metadata": {},
   "outputs": [],
   "source": [
    "! rm -r ../preprocessed_test_transactions/\n",
    "! mkdir ../preprocessed_test_transactions/"
   ]
  },
  {
   "cell_type": "code",
   "execution_count": 8,
   "metadata": {},
   "outputs": [
    {
     "name": "stderr",
     "output_type": "stream",
     "text": [
      "/tmp/ipykernel_43369/2496878583.py:23: TqdmDeprecationWarning: This function will be removed in tqdm==5.0.0\n",
      "Please use `tqdm.notebook.tqdm` instead of `tqdm.tqdm_notebook`\n",
      "  for step in tqdm.tqdm_notebook(range(0, num_parts_total, num_parts_to_preprocess_at_once),\n"
     ]
    },
    {
     "data": {
      "application/vnd.jupyter.widget-view+json": {
       "model_id": "0e655d073bea4214b3a7cb4ac2342237",
       "version_major": 2,
       "version_minor": 0
      },
      "text/plain": [
       "Transforming transactions data:   0%|          | 0/17 [00:00<?, ?it/s]"
      ]
     },
     "metadata": {},
     "output_type": "display_data"
    },
    {
     "data": {
      "application/vnd.jupyter.widget-view+json": {
       "model_id": "50d3ca3f71a446f4a00afbdd74e8e0f2",
       "version_major": 2,
       "version_minor": 0
      },
      "text/plain": [
       "Reading dataset with pandas:   0%|          | 0/3 [00:00<?, ?it/s]"
      ]
     },
     "metadata": {},
     "output_type": "display_data"
    },
    {
     "data": {
      "application/vnd.jupyter.widget-view+json": {
       "model_id": "9f44d822f79647b180b9c1def119d122",
       "version_major": 2,
       "version_minor": 0
      },
      "text/plain": [
       "Reading dataset with pandas:   0%|          | 0/3 [00:00<?, ?it/s]"
      ]
     },
     "metadata": {},
     "output_type": "display_data"
    },
    {
     "data": {
      "application/vnd.jupyter.widget-view+json": {
       "model_id": "53126705efeb4718bc6b83a9b7bcf01e",
       "version_major": 2,
       "version_minor": 0
      },
      "text/plain": [
       "Reading dataset with pandas:   0%|          | 0/3 [00:00<?, ?it/s]"
      ]
     },
     "metadata": {},
     "output_type": "display_data"
    },
    {
     "data": {
      "application/vnd.jupyter.widget-view+json": {
       "model_id": "3372c50e302b4211aeb56717fd0381dc",
       "version_major": 2,
       "version_minor": 0
      },
      "text/plain": [
       "Reading dataset with pandas:   0%|          | 0/3 [00:00<?, ?it/s]"
      ]
     },
     "metadata": {},
     "output_type": "display_data"
    },
    {
     "data": {
      "application/vnd.jupyter.widget-view+json": {
       "model_id": "383f25f7a5694e9aa214141eb4c9e281",
       "version_major": 2,
       "version_minor": 0
      },
      "text/plain": [
       "Reading dataset with pandas:   0%|          | 0/3 [00:00<?, ?it/s]"
      ]
     },
     "metadata": {},
     "output_type": "display_data"
    },
    {
     "data": {
      "application/vnd.jupyter.widget-view+json": {
       "model_id": "a9d69b1caf9246f2a7c1157f2176f246",
       "version_major": 2,
       "version_minor": 0
      },
      "text/plain": [
       "Reading dataset with pandas:   0%|          | 0/3 [00:00<?, ?it/s]"
      ]
     },
     "metadata": {},
     "output_type": "display_data"
    },
    {
     "data": {
      "application/vnd.jupyter.widget-view+json": {
       "model_id": "e0a2559ef9ab40d1b07cae9013ed5297",
       "version_major": 2,
       "version_minor": 0
      },
      "text/plain": [
       "Reading dataset with pandas:   0%|          | 0/3 [00:00<?, ?it/s]"
      ]
     },
     "metadata": {},
     "output_type": "display_data"
    },
    {
     "data": {
      "application/vnd.jupyter.widget-view+json": {
       "model_id": "161cbe04f29b4c41b33f94ff288207b1",
       "version_major": 2,
       "version_minor": 0
      },
      "text/plain": [
       "Reading dataset with pandas:   0%|          | 0/3 [00:00<?, ?it/s]"
      ]
     },
     "metadata": {},
     "output_type": "display_data"
    },
    {
     "data": {
      "application/vnd.jupyter.widget-view+json": {
       "model_id": "c5133c6738ce4f9eae487fc698823623",
       "version_major": 2,
       "version_minor": 0
      },
      "text/plain": [
       "Reading dataset with pandas:   0%|          | 0/3 [00:00<?, ?it/s]"
      ]
     },
     "metadata": {},
     "output_type": "display_data"
    },
    {
     "data": {
      "application/vnd.jupyter.widget-view+json": {
       "model_id": "25e8ac261f8044fabfcd6c301cec7855",
       "version_major": 2,
       "version_minor": 0
      },
      "text/plain": [
       "Reading dataset with pandas:   0%|          | 0/3 [00:00<?, ?it/s]"
      ]
     },
     "metadata": {},
     "output_type": "display_data"
    },
    {
     "data": {
      "application/vnd.jupyter.widget-view+json": {
       "model_id": "5a1057ca12b64b0cb4e7a0ddff284f0f",
       "version_major": 2,
       "version_minor": 0
      },
      "text/plain": [
       "Reading dataset with pandas:   0%|          | 0/3 [00:00<?, ?it/s]"
      ]
     },
     "metadata": {},
     "output_type": "display_data"
    },
    {
     "data": {
      "application/vnd.jupyter.widget-view+json": {
       "model_id": "b72bc8ecfb6247f3ba55f3a9aa4daa16",
       "version_major": 2,
       "version_minor": 0
      },
      "text/plain": [
       "Reading dataset with pandas:   0%|          | 0/3 [00:00<?, ?it/s]"
      ]
     },
     "metadata": {},
     "output_type": "display_data"
    },
    {
     "data": {
      "application/vnd.jupyter.widget-view+json": {
       "model_id": "aeae209b66fb430499058ca91ac38078",
       "version_major": 2,
       "version_minor": 0
      },
      "text/plain": [
       "Reading dataset with pandas:   0%|          | 0/3 [00:00<?, ?it/s]"
      ]
     },
     "metadata": {},
     "output_type": "display_data"
    },
    {
     "data": {
      "application/vnd.jupyter.widget-view+json": {
       "model_id": "340631019ea24190ab8b13897fc53d72",
       "version_major": 2,
       "version_minor": 0
      },
      "text/plain": [
       "Reading dataset with pandas:   0%|          | 0/3 [00:00<?, ?it/s]"
      ]
     },
     "metadata": {},
     "output_type": "display_data"
    },
    {
     "data": {
      "application/vnd.jupyter.widget-view+json": {
       "model_id": "f4e84d4486414b2690adad0dc55ca58a",
       "version_major": 2,
       "version_minor": 0
      },
      "text/plain": [
       "Reading dataset with pandas:   0%|          | 0/3 [00:00<?, ?it/s]"
      ]
     },
     "metadata": {},
     "output_type": "display_data"
    },
    {
     "data": {
      "application/vnd.jupyter.widget-view+json": {
       "model_id": "9d833137f5dd4c93afaae5b376729870",
       "version_major": 2,
       "version_minor": 0
      },
      "text/plain": [
       "Reading dataset with pandas:   0%|          | 0/3 [00:00<?, ?it/s]"
      ]
     },
     "metadata": {},
     "output_type": "display_data"
    },
    {
     "data": {
      "application/vnd.jupyter.widget-view+json": {
       "model_id": "3c1c075b06604c03bf3f3cc74d8776ea",
       "version_major": 2,
       "version_minor": 0
      },
      "text/plain": [
       "Reading dataset with pandas:   0%|          | 0/2 [00:00<?, ?it/s]"
      ]
     },
     "metadata": {},
     "output_type": "display_data"
    }
   ],
   "source": [
    "test_data = prepare_transactions_dataset(TEST_TRANSACTIONS_PATH, num_parts_to_preprocess_at_once=3, num_parts_total=50, \n",
    "                                         save_to_path='../preprocessed_test_transactions/')"
   ]
  },
  {
   "cell_type": "markdown",
   "metadata": {},
   "source": [
    "## Read saved parquet from local"
   ]
  },
  {
   "cell_type": "code",
   "execution_count": 17,
   "metadata": {},
   "outputs": [],
   "source": [
    "data_dir = Path('../preprocessed_transactions/')\n",
    "data = pd.concat(\n",
    "    pd.read_parquet(parquet_file)\n",
    "    for parquet_file in data_dir.glob('*.parquet')\n",
    ")"
   ]
  },
  {
   "cell_type": "code",
   "execution_count": 9,
   "metadata": {},
   "outputs": [],
   "source": [
    "data_dir = Path('../preprocessed_test_transactions/')\n",
    "test_data = pd.concat(\n",
    "    pd.read_parquet(parquet_file)\n",
    "    for parquet_file in data_dir.glob('*.parquet')\n",
    ")"
   ]
  },
  {
   "cell_type": "code",
   "execution_count": 18,
   "metadata": {},
   "outputs": [
    {
     "data": {
      "text/html": [
       "<div>\n",
       "<style scoped>\n",
       "    .dataframe tbody tr th:only-of-type {\n",
       "        vertical-align: middle;\n",
       "    }\n",
       "\n",
       "    .dataframe tbody tr th {\n",
       "        vertical-align: top;\n",
       "    }\n",
       "\n",
       "    .dataframe thead th {\n",
       "        text-align: right;\n",
       "    }\n",
       "</style>\n",
       "<table border=\"1\" class=\"dataframe\">\n",
       "  <thead>\n",
       "    <tr style=\"text-align: right;\">\n",
       "      <th></th>\n",
       "      <th>app_id</th>\n",
       "      <th>product</th>\n",
       "    </tr>\n",
       "  </thead>\n",
       "  <tbody>\n",
       "    <tr>\n",
       "      <th>0</th>\n",
       "      <td>1063620</td>\n",
       "      <td>0</td>\n",
       "    </tr>\n",
       "    <tr>\n",
       "      <th>1</th>\n",
       "      <td>1063621</td>\n",
       "      <td>0</td>\n",
       "    </tr>\n",
       "    <tr>\n",
       "      <th>2</th>\n",
       "      <td>1063622</td>\n",
       "      <td>1</td>\n",
       "    </tr>\n",
       "    <tr>\n",
       "      <th>3</th>\n",
       "      <td>1063623</td>\n",
       "      <td>1</td>\n",
       "    </tr>\n",
       "    <tr>\n",
       "      <th>4</th>\n",
       "      <td>1063624</td>\n",
       "      <td>2</td>\n",
       "    </tr>\n",
       "  </tbody>\n",
       "</table>\n",
       "</div>"
      ],
      "text/plain": [
       "    app_id  product\n",
       "0  1063620        0\n",
       "1  1063621        0\n",
       "2  1063622        1\n",
       "3  1063623        1\n",
       "4  1063624        2"
      ]
     },
     "execution_count": 18,
     "metadata": {},
     "output_type": "execute_result"
    }
   ],
   "source": [
    "TEST_TARGET_PATH = '../test_target_contest.csv'\n",
    "test_target =  pd.read_csv(TEST_TARGET_PATH)\n",
    "test_target.head()"
   ]
  },
  {
   "cell_type": "code",
   "execution_count": 19,
   "metadata": {},
   "outputs": [],
   "source": [
    "merged_test_data = test_data.merge(test_target[['app_id', 'product']], on='app_id')"
   ]
  },
  {
   "cell_type": "markdown",
   "metadata": {},
   "source": [
    "* теперь можно переходить к моделированию и экспериментам. зафиксируем целевую метрику - `ROC AUC`. Результатом всех экспериментов будут серия следующих моделей:\n",
    "\n",
    "| Name | Train | CV | Public Test|число признаков\n",
    "| :-: | :-: | :-: | :-: | :-: |\n",
    "| lgb+cv(5) | 0.801 | 0.77 |  0.737 | 127\n",
    "|catboost+cv(5)| 0.775| 0.764 | 0.732 | 127\n",
    "|lgb+cv(5)+split_importance(top 64 feats)| 0.795| 0.767 | 0.735| 64\n",
    "| lgb+cv(5)+permutation_importance(top 57 feats) | 0.796 | 0.768 |  0.736 | 57\n",
    "| lgb+cv(5)+target_permutation(top 60 feats) | 0.796 | 0.766 |  0.733 | 60\n",
    "\n",
    "* Вы можете перейти сразу же к интересующему вас подходу и скорее приниять участие в конкурсе!"
   ]
  },
  {
   "cell_type": "markdown",
   "metadata": {},
   "source": [
    "### 3. LightGBM + CV"
   ]
  },
  {
   "cell_type": "markdown",
   "metadata": {},
   "source": [
    "* Начнем с градиентного бустинга из библиотеки `LightGBM`. Самое главное - всегда выделять валидационную выборку, чтобы контролировать обучение и не переобучаться. Можно выделять отложенную выборку по времени, случайную выборку,  использовать стратифицированное разбиение по целевой переменной или кросс-валидацию."
   ]
  },
  {
   "cell_type": "code",
   "execution_count": 23,
   "metadata": {},
   "outputs": [
    {
     "data": {
      "text/html": [
       "<div>\n",
       "<style scoped>\n",
       "    .dataframe tbody tr th:only-of-type {\n",
       "        vertical-align: middle;\n",
       "    }\n",
       "\n",
       "    .dataframe tbody tr th {\n",
       "        vertical-align: top;\n",
       "    }\n",
       "\n",
       "    .dataframe thead th {\n",
       "        text-align: right;\n",
       "    }\n",
       "</style>\n",
       "<table border=\"1\" class=\"dataframe\">\n",
       "  <thead>\n",
       "    <tr style=\"text-align: right;\">\n",
       "      <th></th>\n",
       "      <th>app_id</th>\n",
       "      <th>product</th>\n",
       "      <th>flag</th>\n",
       "    </tr>\n",
       "  </thead>\n",
       "  <tbody>\n",
       "    <tr>\n",
       "      <th>0</th>\n",
       "      <td>0</td>\n",
       "      <td>3</td>\n",
       "      <td>0</td>\n",
       "    </tr>\n",
       "    <tr>\n",
       "      <th>1</th>\n",
       "      <td>1</td>\n",
       "      <td>1</td>\n",
       "      <td>0</td>\n",
       "    </tr>\n",
       "    <tr>\n",
       "      <th>2</th>\n",
       "      <td>2</td>\n",
       "      <td>1</td>\n",
       "      <td>0</td>\n",
       "    </tr>\n",
       "    <tr>\n",
       "      <th>3</th>\n",
       "      <td>3</td>\n",
       "      <td>1</td>\n",
       "      <td>0</td>\n",
       "    </tr>\n",
       "    <tr>\n",
       "      <th>4</th>\n",
       "      <td>4</td>\n",
       "      <td>1</td>\n",
       "      <td>0</td>\n",
       "    </tr>\n",
       "  </tbody>\n",
       "</table>\n",
       "</div>"
      ],
      "text/plain": [
       "   app_id  product  flag\n",
       "0       0        3     0\n",
       "1       1        1     0\n",
       "2       2        1     0\n",
       "3       3        1     0\n",
       "4       4        1     0"
      ]
     },
     "execution_count": 23,
     "metadata": {},
     "output_type": "execute_result"
    }
   ],
   "source": [
    "targets = pd.read_csv(TRAIN_TARGET_PATH)\n",
    "targets.head()"
   ]
  },
  {
   "cell_type": "markdown",
   "metadata": {},
   "source": [
    "* we have inbalanced classes, as consequence, we should make `downsample the majority class` with differennt coeff "
   ]
  },
  {
   "cell_type": "code",
   "execution_count": 49,
   "metadata": {},
   "outputs": [
    {
     "name": "stdout",
     "output_type": "stream",
     "text": [
      "2.8 %\n"
     ]
    },
    {
     "data": {
      "image/png": "[encoded data removed]",
      "text/plain": [
       "<Figure size 432x288 with 1 Axes>"
      ]
     },
     "metadata": {
      "needs_background": "light"
     },
     "output_type": "display_data"
    }
   ],
   "source": [
    "targets.flag.hist();\n",
    "\n",
    "print(f'{targets.flag.value_counts()[1]/targets.flag.value_counts()[0]*100:.1f} %')"
   ]
  },
  {
   "cell_type": "markdown",
   "metadata": {},
   "source": [
    "* Добавим целевую переменную `flag`  и признак `product` к выделенным агрегациям по клиентам"
   ]
  },
  {
   "cell_type": "code",
   "execution_count": 20,
   "metadata": {},
   "outputs": [],
   "source": [
    "merged_data = data.merge(targets[['app_id', 'product', 'flag']], on=['app_id'])"
   ]
  },
  {
   "cell_type": "code",
   "execution_count": 21,
   "metadata": {},
   "outputs": [],
   "source": [
    "features = [x for x in merged_data.columns if x not in ['app_id', 'flag']]"
   ]
  },
  {
   "cell_type": "markdown",
   "metadata": {},
   "source": [
    "## logicaly to use timeseries split if it's true"
   ]
  },
  {
   "cell_type": "code",
   "execution_count": 39,
   "metadata": {},
   "outputs": [
    {
     "name": "stdout",
     "output_type": "stream",
     "text": [
      "Training with fold 1 started.\n",
      "Training until validation scores don't improve for 50 rounds\n",
      "[50]\tvalid_0's auc: 0.739364\n",
      "[100]\tvalid_0's auc: 0.752421\n",
      "[150]\tvalid_0's auc: 0.756811\n",
      "[200]\tvalid_0's auc: 0.759524\n",
      "[250]\tvalid_0's auc: 0.761356\n",
      "[300]\tvalid_0's auc: 0.762263\n",
      "[350]\tvalid_0's auc: 0.762681\n",
      "[400]\tvalid_0's auc: 0.763114\n",
      "[450]\tvalid_0's auc: 0.76317\n",
      "[500]\tvalid_0's auc: 0.763433\n",
      "[550]\tvalid_0's auc: 0.763531\n",
      "[600]\tvalid_0's auc: 0.76364\n",
      "Early stopping, best iteration is:\n",
      "[594]\tvalid_0's auc: 0.763817\n",
      "Training with fold 1 completed.\n",
      "Training with fold 2 started.\n",
      "Training until validation scores don't improve for 50 rounds\n",
      "[50]\tvalid_0's auc: 0.727286\n",
      "[100]\tvalid_0's auc: 0.74211\n",
      "[150]\tvalid_0's auc: 0.747928\n",
      "[200]\tvalid_0's auc: 0.750767\n",
      "[250]\tvalid_0's auc: 0.7522\n",
      "[300]\tvalid_0's auc: 0.753371\n",
      "[350]\tvalid_0's auc: 0.753839\n",
      "[400]\tvalid_0's auc: 0.754479\n",
      "[450]\tvalid_0's auc: 0.754793\n",
      "[500]\tvalid_0's auc: 0.755278\n",
      "[550]\tvalid_0's auc: 0.755442\n",
      "[600]\tvalid_0's auc: 0.755566\n",
      "[650]\tvalid_0's auc: 0.755694\n",
      "[700]\tvalid_0's auc: 0.755859\n",
      "[750]\tvalid_0's auc: 0.755962\n",
      "[800]\tvalid_0's auc: 0.756057\n",
      "[850]\tvalid_0's auc: 0.756274\n",
      "[900]\tvalid_0's auc: 0.756325\n",
      "[950]\tvalid_0's auc: 0.756259\n",
      "[1000]\tvalid_0's auc: 0.756454\n",
      "[1050]\tvalid_0's auc: 0.756799\n",
      "[1100]\tvalid_0's auc: 0.756839\n",
      "Early stopping, best iteration is:\n",
      "[1079]\tvalid_0's auc: 0.756899\n",
      "Training with fold 2 completed.\n",
      "Training with fold 3 started.\n",
      "Training until validation scores don't improve for 50 rounds\n",
      "[50]\tvalid_0's auc: 0.737495\n",
      "[100]\tvalid_0's auc: 0.7524\n",
      "[150]\tvalid_0's auc: 0.758506\n",
      "[200]\tvalid_0's auc: 0.761636\n",
      "[250]\tvalid_0's auc: 0.763217\n",
      "[300]\tvalid_0's auc: 0.76432\n",
      "[350]\tvalid_0's auc: 0.765069\n",
      "[400]\tvalid_0's auc: 0.765581\n",
      "[450]\tvalid_0's auc: 0.765773\n",
      "[500]\tvalid_0's auc: 0.766324\n",
      "[550]\tvalid_0's auc: 0.766457\n",
      "[600]\tvalid_0's auc: 0.766658\n",
      "[650]\tvalid_0's auc: 0.766886\n",
      "Early stopping, best iteration is:\n",
      "[633]\tvalid_0's auc: 0.766993\n",
      "Training with fold 3 completed.\n",
      "Training with fold 4 started.\n",
      "Training until validation scores don't improve for 50 rounds\n",
      "[50]\tvalid_0's auc: 0.737552\n",
      "[100]\tvalid_0's auc: 0.750746\n",
      "[150]\tvalid_0's auc: 0.756241\n",
      "[200]\tvalid_0's auc: 0.758672\n",
      "[250]\tvalid_0's auc: 0.760081\n",
      "[300]\tvalid_0's auc: 0.760863\n",
      "[350]\tvalid_0's auc: 0.761529\n",
      "[400]\tvalid_0's auc: 0.761849\n",
      "[450]\tvalid_0's auc: 0.762191\n",
      "[500]\tvalid_0's auc: 0.762639\n",
      "[550]\tvalid_0's auc: 0.762955\n",
      "[600]\tvalid_0's auc: 0.763312\n",
      "[650]\tvalid_0's auc: 0.763588\n",
      "[700]\tvalid_0's auc: 0.763771\n",
      "[750]\tvalid_0's auc: 0.763959\n",
      "[800]\tvalid_0's auc: 0.764212\n",
      "[850]\tvalid_0's auc: 0.764406\n",
      "[900]\tvalid_0's auc: 0.764602\n",
      "[950]\tvalid_0's auc: 0.764962\n",
      "[1000]\tvalid_0's auc: 0.76514\n",
      "Early stopping, best iteration is:\n",
      "[988]\tvalid_0's auc: 0.765192\n",
      "Training with fold 4 completed.\n",
      "Training with fold 5 started.\n",
      "Training until validation scores don't improve for 50 rounds\n",
      "[50]\tvalid_0's auc: 0.732709\n",
      "[100]\tvalid_0's auc: 0.746849\n",
      "[150]\tvalid_0's auc: 0.753433\n",
      "[200]\tvalid_0's auc: 0.756972\n",
      "[250]\tvalid_0's auc: 0.759352\n",
      "[300]\tvalid_0's auc: 0.760813\n",
      "[350]\tvalid_0's auc: 0.762028\n",
      "[400]\tvalid_0's auc: 0.762946\n",
      "[450]\tvalid_0's auc: 0.763455\n",
      "[500]\tvalid_0's auc: 0.764037\n",
      "[550]\tvalid_0's auc: 0.764572\n",
      "[600]\tvalid_0's auc: 0.764918\n",
      "[650]\tvalid_0's auc: 0.765565\n",
      "[700]\tvalid_0's auc: 0.765884\n",
      "[750]\tvalid_0's auc: 0.766179\n",
      "[800]\tvalid_0's auc: 0.766405\n",
      "[850]\tvalid_0's auc: 0.766567\n",
      "[900]\tvalid_0's auc: 0.766841\n",
      "[950]\tvalid_0's auc: 0.767013\n",
      "[1000]\tvalid_0's auc: 0.767172\n",
      "[1050]\tvalid_0's auc: 0.767358\n",
      "[1100]\tvalid_0's auc: 0.767696\n",
      "[1150]\tvalid_0's auc: 0.767978\n",
      "[1200]\tvalid_0's auc: 0.768391\n",
      "[1250]\tvalid_0's auc: 0.768535\n",
      "[1300]\tvalid_0's auc: 0.768721\n",
      "[1350]\tvalid_0's auc: 0.769071\n",
      "[1400]\tvalid_0's auc: 0.769232\n",
      "[1450]\tvalid_0's auc: 0.769402\n",
      "[1500]\tvalid_0's auc: 0.769521\n",
      "Did not meet early stopping. Best iteration is:\n",
      "[1498]\tvalid_0's auc: 0.769527\n",
      "Training with fold 5 completed.\n"
     ]
    }
   ],
   "source": [
    "targets = merged_data.flag.values\n",
    "\n",
    "cv = TimeSeriesSplit(n_splits=5)\n",
    "\n",
    "oof = np.zeros(len(merged_data))\n",
    "train_preds = np.zeros(len(merged_data))\n",
    "\n",
    "models = []\n",
    "\n",
    "tree_params = {\n",
    "    'objective': 'binary',\n",
    "    'metric': 'auc',\n",
    "    'learning_rate': 0.05,\n",
    "    'reg_lambda': 0.001,\n",
    "    'num_leaves': 8,\n",
    "    'n_jobs': 5,\n",
    "    'n_estimators': 1500\n",
    "}\n",
    "\n",
    "for fold_, (train_idx, val_idx) in enumerate(cv.split(merged_data, targets), 1):\n",
    "    print(f'Training with fold {fold_} started.')\n",
    "    lgb_model = lgb.LGBMClassifier(**tree_params)\n",
    "    train, val = merged_data.iloc[train_idx], merged_data.iloc[val_idx]\n",
    "    \n",
    "    lgb_model.fit(train[features], train.flag.values, eval_set=[(val[features], val.flag.values)],\n",
    "              early_stopping_rounds=50, verbose=50)\n",
    "\n",
    "    \n",
    "    oof[val_idx] = lgb_model.predict_proba(val[features])[:, 1]\n",
    "    train_preds[train_idx] += lgb_model.predict_proba(train[features])[:, 1] / (cv.n_splits-1)\n",
    "    models.append(lgb_model)\n",
    "    print(f'Training with fold {fold_} completed.')"
   ]
  },
  {
   "cell_type": "code",
   "execution_count": 40,
   "metadata": {},
   "outputs": [
    {
     "data": {
      "text/plain": [
       "('Train roc-auc', 0.7057781523149103)"
      ]
     },
     "execution_count": 40,
     "metadata": {},
     "output_type": "execute_result"
    }
   ],
   "source": [
    "'Train roc-auc', roc_auc_score(targets, train_preds)"
   ]
  },
  {
   "cell_type": "code",
   "execution_count": 41,
   "metadata": {},
   "outputs": [
    {
     "data": {
      "text/plain": [
       "('CV roc-auc', 0.6883337799256872)"
      ]
     },
     "execution_count": 41,
     "metadata": {},
     "output_type": "execute_result"
    }
   ],
   "source": [
    "'CV roc-auc', roc_auc_score(targets, oof)"
   ]
  },
  {
   "cell_type": "markdown",
   "metadata": {},
   "source": [
    "* Подготовим посылку в проверяющую систему:"
   ]
  },
  {
   "cell_type": "code",
   "execution_count": 30,
   "metadata": {},
   "outputs": [
    {
     "name": "stderr",
     "output_type": "stream",
     "text": [
      "/tmp/ipykernel_43369/275690305.py:3: TqdmDeprecationWarning: This function will be removed in tqdm==5.0.0\n",
      "Please use `tqdm.notebook.tqdm` instead of `tqdm.tqdm_notebook`\n",
      "  for model in tqdm.tqdm_notebook(models):\n"
     ]
    },
    {
     "data": {
      "application/vnd.jupyter.widget-view+json": {
       "model_id": "1a4eec5b29634322abeb7504a074c144",
       "version_major": 2,
       "version_minor": 0
      },
      "text/plain": [
       "  0%|          | 0/5 [00:00<?, ?it/s]"
      ]
     },
     "metadata": {},
     "output_type": "display_data"
    }
   ],
   "source": [
    "score = np.zeros(len(merged_test_data))\n",
    "\n",
    "for model in tqdm.tqdm_notebook(models):\n",
    "    score += model.predict_proba(merged_test_data[features])[:, 1] / len(models)\n",
    "    \n",
    "submission = pd.DataFrame({\n",
    "    'app_id' : test_data.app_id.values,\n",
    "    'score': score\n",
    "}) \n",
    "\n",
    "submission.to_csv('sub.csv', index=None) # ~ 0.737 roc-auc на public test"
   ]
  },
  {
   "cell_type": "markdown",
   "metadata": {},
   "source": [
    "### 4.  Виды Feature Importance"
   ]
  },
  {
   "cell_type": "markdown",
   "metadata": {},
   "source": [
    "* Важный шаг в построении моделей - оценка важности признаков. `LightGBM` имеет внутренние способы оценки важности признаков - на основе того, как часто делается сплит в вершине по признаку (`split`) и на основе того, какой суммарный прирост в информации дает разбиение по признаку (`gain`). Используем первый способ оценки важности признаков. Затем отберем топ признаков по важности и построим на них новые модели."
   ]
  },
  {
   "cell_type": "code",
   "execution_count": 31,
   "metadata": {},
   "outputs": [],
   "source": [
    "importances = np.zeros(len(features))\n",
    "for model in models:\n",
    "    importances += model.feature_importances_ / len(models)"
   ]
  },
  {
   "cell_type": "code",
   "execution_count": 32,
   "metadata": {},
   "outputs": [],
   "source": [
    "def plot_feature_importance(feature_names, feature_scores, top_feats=20, title='Importance', x_label='Importance', \n",
    "                            y_label='Features'):\n",
    "    tuples = [(name, round(score, 3)) for name, score in zip(feature_names, feature_scores)]\n",
    "    tuples = sorted(tuples, key=lambda x: x[1])[-top_feats:]\n",
    "    \n",
    "    labels, values = zip(*tuples)\n",
    "    _, ax = plt.subplots(1, 1, figsize=(10, 8))\n",
    "    ylocs = np.arange(len(values))\n",
    "    \n",
    "    ax.barh(ylocs, values, align='center', height=0.4)\n",
    "    for x, y in zip(values, ylocs):\n",
    "        ax.text(x + 1, y, x, va='center')\n",
    "        \n",
    "    ax.set_yticks(ylocs)\n",
    "    ax.set_yticklabels(labels)\n",
    "    xlim = (0, max(values) * 1.1)\n",
    "    ax.set_xlim(xlim)\n",
    "    ylim = (-1, len(values))\n",
    "    ax.set_ylim(ylim)\n",
    "    \n",
    "    ax.set_title(title)\n",
    "    ax.set_xlabel(x_label)\n",
    "    ax.set_ylabel(y_label)\n",
    "    ax.grid(True)"
   ]
  },
  {
   "cell_type": "code",
   "execution_count": 33,
   "metadata": {},
   "outputs": [
    {
     "data": {
      "image/png": "[encoded data removed]",
      "text/plain": [
       "<Figure size 720x576 with 1 Axes>"
      ]
     },
     "metadata": {
      "needs_background": "light"
     },
     "output_type": "display_data"
    }
   ],
   "source": [
    "plot_feature_importance(features, importances, top_feats=20, title='LightGBM feature importance', \n",
    "                        x_label='Importance')"
   ]
  },
  {
   "cell_type": "code",
   "execution_count": 24,
   "metadata": {},
   "outputs": [],
   "source": [
    "tuples = [(name, round(score, 3)) for name, score in zip(features, importances)]\n",
    "tuples = sorted(tuples, key=lambda x: x[1])\n",
    "\n",
    "top_selected_feats = [x[0] for x in tuples if x[1] >= np.median(importances)]"
   ]
  },
  {
   "cell_type": "code",
   "execution_count": 25,
   "metadata": {},
   "outputs": [
    {
     "name": "stdout",
     "output_type": "stream",
     "text": [
      "Training with fold 1 started.\n",
      "Training until validation scores don't improve for 50 rounds\n",
      "[50]\tvalid_0's auc: 0.732084\n",
      "[100]\tvalid_0's auc: 0.743481\n",
      "[150]\tvalid_0's auc: 0.749082\n",
      "[200]\tvalid_0's auc: 0.752432\n",
      "[250]\tvalid_0's auc: 0.7548\n",
      "[300]\tvalid_0's auc: 0.756623\n",
      "[350]\tvalid_0's auc: 0.757892\n",
      "[400]\tvalid_0's auc: 0.758939\n",
      "[450]\tvalid_0's auc: 0.759745\n",
      "[500]\tvalid_0's auc: 0.760493\n",
      "[550]\tvalid_0's auc: 0.761238\n",
      "[600]\tvalid_0's auc: 0.761822\n",
      "[650]\tvalid_0's auc: 0.762326\n",
      "[700]\tvalid_0's auc: 0.762875\n",
      "[750]\tvalid_0's auc: 0.763263\n",
      "[800]\tvalid_0's auc: 0.76367\n",
      "[850]\tvalid_0's auc: 0.763982\n",
      "[900]\tvalid_0's auc: 0.764452\n",
      "[950]\tvalid_0's auc: 0.764759\n",
      "[1000]\tvalid_0's auc: 0.765034\n",
      "Did not meet early stopping. Best iteration is:\n",
      "[999]\tvalid_0's auc: 0.765038\n",
      "Training with fold 1 completed.\n",
      "Training with fold 2 started.\n",
      "Training until validation scores don't improve for 50 rounds\n",
      "[50]\tvalid_0's auc: 0.734728\n",
      "[100]\tvalid_0's auc: 0.747884\n",
      "[150]\tvalid_0's auc: 0.753116\n",
      "[200]\tvalid_0's auc: 0.756034\n",
      "[250]\tvalid_0's auc: 0.758081\n",
      "[300]\tvalid_0's auc: 0.759624\n",
      "[350]\tvalid_0's auc: 0.760624\n",
      "[400]\tvalid_0's auc: 0.761663\n",
      "[450]\tvalid_0's auc: 0.762627\n",
      "[500]\tvalid_0's auc: 0.763402\n",
      "[550]\tvalid_0's auc: 0.764198\n",
      "[600]\tvalid_0's auc: 0.764947\n",
      "[650]\tvalid_0's auc: 0.76555\n",
      "[700]\tvalid_0's auc: 0.766099\n",
      "[750]\tvalid_0's auc: 0.766322\n",
      "[800]\tvalid_0's auc: 0.766829\n",
      "[850]\tvalid_0's auc: 0.767234\n",
      "[900]\tvalid_0's auc: 0.767595\n",
      "[950]\tvalid_0's auc: 0.767825\n",
      "[1000]\tvalid_0's auc: 0.768\n",
      "Did not meet early stopping. Best iteration is:\n",
      "[999]\tvalid_0's auc: 0.768001\n",
      "Training with fold 2 completed.\n",
      "Training with fold 3 started.\n",
      "Training until validation scores don't improve for 50 rounds\n",
      "[50]\tvalid_0's auc: 0.73876\n",
      "[100]\tvalid_0's auc: 0.751689\n",
      "[150]\tvalid_0's auc: 0.757127\n",
      "[200]\tvalid_0's auc: 0.760567\n",
      "[250]\tvalid_0's auc: 0.762752\n",
      "[300]\tvalid_0's auc: 0.764347\n",
      "[350]\tvalid_0's auc: 0.765644\n",
      "[400]\tvalid_0's auc: 0.766733\n",
      "[450]\tvalid_0's auc: 0.767477\n",
      "[500]\tvalid_0's auc: 0.768432\n",
      "[550]\tvalid_0's auc: 0.768927\n",
      "[600]\tvalid_0's auc: 0.769364\n",
      "[650]\tvalid_0's auc: 0.769835\n",
      "[700]\tvalid_0's auc: 0.770322\n",
      "[750]\tvalid_0's auc: 0.770604\n",
      "[800]\tvalid_0's auc: 0.771007\n",
      "[850]\tvalid_0's auc: 0.771348\n",
      "[900]\tvalid_0's auc: 0.771693\n",
      "[950]\tvalid_0's auc: 0.771914\n",
      "[1000]\tvalid_0's auc: 0.772201\n",
      "Did not meet early stopping. Best iteration is:\n",
      "[999]\tvalid_0's auc: 0.772204\n",
      "Training with fold 3 completed.\n",
      "Training with fold 4 started.\n",
      "Training until validation scores don't improve for 50 rounds\n",
      "[50]\tvalid_0's auc: 0.729637\n",
      "[100]\tvalid_0's auc: 0.743485\n",
      "[150]\tvalid_0's auc: 0.74998\n",
      "[200]\tvalid_0's auc: 0.753234\n",
      "[250]\tvalid_0's auc: 0.755661\n",
      "[300]\tvalid_0's auc: 0.757358\n",
      "[350]\tvalid_0's auc: 0.759008\n",
      "[400]\tvalid_0's auc: 0.760163\n",
      "[450]\tvalid_0's auc: 0.761113\n",
      "[500]\tvalid_0's auc: 0.762094\n",
      "[550]\tvalid_0's auc: 0.762894\n",
      "[600]\tvalid_0's auc: 0.763579\n",
      "[650]\tvalid_0's auc: 0.764195\n",
      "[700]\tvalid_0's auc: 0.764727\n",
      "[750]\tvalid_0's auc: 0.765156\n",
      "[800]\tvalid_0's auc: 0.765557\n",
      "[850]\tvalid_0's auc: 0.765845\n",
      "[900]\tvalid_0's auc: 0.766191\n",
      "[950]\tvalid_0's auc: 0.766589\n",
      "[1000]\tvalid_0's auc: 0.766798\n",
      "Did not meet early stopping. Best iteration is:\n",
      "[999]\tvalid_0's auc: 0.766798\n",
      "Training with fold 4 completed.\n",
      "Training with fold 5 started.\n",
      "Training until validation scores don't improve for 50 rounds\n",
      "[50]\tvalid_0's auc: 0.73762\n",
      "[100]\tvalid_0's auc: 0.750274\n",
      "[150]\tvalid_0's auc: 0.755354\n",
      "[200]\tvalid_0's auc: 0.758556\n",
      "[250]\tvalid_0's auc: 0.760508\n",
      "[300]\tvalid_0's auc: 0.762252\n",
      "[350]\tvalid_0's auc: 0.763481\n",
      "[400]\tvalid_0's auc: 0.764524\n",
      "[450]\tvalid_0's auc: 0.765402\n",
      "[500]\tvalid_0's auc: 0.766122\n",
      "[550]\tvalid_0's auc: 0.766677\n",
      "[600]\tvalid_0's auc: 0.76723\n",
      "[650]\tvalid_0's auc: 0.767647\n",
      "[700]\tvalid_0's auc: 0.768047\n",
      "[750]\tvalid_0's auc: 0.768412\n",
      "[800]\tvalid_0's auc: 0.768682\n",
      "[850]\tvalid_0's auc: 0.769018\n",
      "[900]\tvalid_0's auc: 0.76925\n",
      "[950]\tvalid_0's auc: 0.769456\n",
      "[1000]\tvalid_0's auc: 0.769657\n",
      "Did not meet early stopping. Best iteration is:\n",
      "[1000]\tvalid_0's auc: 0.769657\n",
      "Training with fold 5 completed.\n"
     ]
    }
   ],
   "source": [
    "targets = merged_data.flag.values\n",
    "\n",
    "cv = KFold(n_splits=5, random_state=100, shuffle=True)\n",
    "\n",
    "oof = np.zeros(len(merged_data))\n",
    "train_preds = np.zeros(len(merged_data))\n",
    "\n",
    "new_models = []\n",
    "\n",
    "tree_params = {\n",
    "    'objective': 'binary',\n",
    "    'metric': 'auc',\n",
    "    'learning_rate': 0.05,\n",
    "    'max_depth': 3,\n",
    "    'reg_lambda': 1,\n",
    "    'num_leaves': 64,\n",
    "    'n_jobs': 5,\n",
    "    'n_estimators': 1000\n",
    "}\n",
    "\n",
    "\n",
    "for fold_, (train_idx, val_idx) in enumerate(cv.split(merged_data, targets), 1):\n",
    "    print(f'Training with fold {fold_} started.')\n",
    "    lgb_model = lgb.LGBMClassifier(**tree_params)\n",
    "    train, val = merged_data.iloc[train_idx], merged_data.iloc[val_idx]\n",
    "    \n",
    "    lgb_model.fit(train[top_selected_feats], train.flag.values, eval_set=[(val[top_selected_feats], val.flag.values)],\n",
    "              early_stopping_rounds=50, verbose=50)\n",
    "\n",
    "    \n",
    "    oof[val_idx] = lgb_model.predict_proba(val[top_selected_feats])[:, 1]\n",
    "    train_preds[train_idx] += lgb_model.predict_proba(train[top_selected_feats])[:, 1] / (cv.n_splits-1)\n",
    "    new_models.append(lgb_model)\n",
    "    print(f'Training with fold {fold_} completed.')"
   ]
  },
  {
   "cell_type": "code",
   "execution_count": 26,
   "metadata": {},
   "outputs": [
    {
     "data": {
      "text/plain": [
       "('Train roc-auc', 0.7964627929564552)"
      ]
     },
     "execution_count": 26,
     "metadata": {},
     "output_type": "execute_result"
    }
   ],
   "source": [
    "'Train roc-auc', roc_auc_score(targets, train_preds)"
   ]
  },
  {
   "cell_type": "code",
   "execution_count": 27,
   "metadata": {},
   "outputs": [
    {
     "data": {
      "text/plain": [
       "('CV roc-auc', 0.7683256742004549)"
      ]
     },
     "execution_count": 27,
     "metadata": {},
     "output_type": "execute_result"
    }
   ],
   "source": [
    "'CV roc-auc', roc_auc_score(targets, oof)"
   ]
  },
  {
   "cell_type": "code",
   "execution_count": 28,
   "metadata": {},
   "outputs": [
    {
     "name": "stderr",
     "output_type": "stream",
     "text": [
      "/usr/local/lib/python3.7/site-packages/ipykernel_launcher.py:3: TqdmDeprecationWarning: This function will be removed in tqdm==5.0.0\n",
      "Please use `tqdm.notebook.tqdm` instead of `tqdm.tqdm_notebook`\n",
      "  This is separate from the ipykernel package so we can avoid doing imports until\n"
     ]
    },
    {
     "data": {
      "application/vnd.jupyter.widget-view+json": {
       "model_id": "13689440aadb434db331900bca826eb0",
       "version_major": 2,
       "version_minor": 0
      },
      "text/plain": [
       "HBox(children=(HTML(value=''), FloatProgress(value=0.0, max=5.0), HTML(value='')))"
      ]
     },
     "metadata": {},
     "output_type": "display_data"
    },
    {
     "name": "stdout",
     "output_type": "stream",
     "text": [
      "\n"
     ]
    }
   ],
   "source": [
    "score = np.zeros(len(merged_test_data))\n",
    "\n",
    "for model in tqdm.tqdm_notebook(new_models):\n",
    "    score += model.predict_proba(merged_test_data[top_selected_feats])[:, 1] / len(models)\n",
    "    \n",
    "submission = pd.DataFrame({\n",
    "    'app_id' : test_data.app_id.values,\n",
    "    'score': score\n",
    "}) # ~ 0.7346 на public test"
   ]
  },
  {
   "cell_type": "markdown",
   "metadata": {},
   "source": [
    "* Другой эффективный и простой способ оценки важности признаков - `permutation importance`. Такой способ оценки важности признаков можно применить к любой обученной модели на табличных данных. Данный тип важности определеяется для каждого признака, как изменение в скоре (в нашем случае - `roc_auc`) при случайном перемешиваниии столбца  с значениями этого признака несколько раз. Можно использовть реализацию из `sklearn`."
   ]
  },
  {
   "cell_type": "code",
   "execution_count": 29,
   "metadata": {},
   "outputs": [
    {
     "name": "stdout",
     "output_type": "stream",
     "text": [
      "Compute with fold 1 started.\n",
      "Computation with fold 1 completed.\n",
      "Compute with fold 2 started.\n",
      "Computation with fold 2 completed.\n",
      "Compute with fold 3 started.\n",
      "Computation with fold 3 completed.\n",
      "Compute with fold 4 started.\n",
      "Computation with fold 4 completed.\n",
      "Compute with fold 5 started.\n",
      "Computation with fold 5 completed.\n"
     ]
    }
   ],
   "source": [
    "permut_importance = np.zeros(len(features))\n",
    "\n",
    "for fold_, (_, val_idx) in enumerate(cv.split(merged_data, targets), 1):\n",
    "    print(f'Compute with fold {fold_} started.')\n",
    "    val = merged_data.iloc[val_idx]\n",
    "    importances_report = permutation_importance(models[fold_-1], val[features], val.flag.values, n_repeats=3, \n",
    "                                     n_jobs=3, scoring='roc_auc')\n",
    "    permut_importance += importances_report.importances_mean / cv.n_splits\n",
    "    print(f'Computation with fold {fold_} completed.')"
   ]
  },
  {
   "cell_type": "code",
   "execution_count": 30,
   "metadata": {},
   "outputs": [
    {
     "data": {
      "image/png": "[encoded data removed]",
      "text/plain": [
       "<Figure size 720x576 with 1 Axes>"
      ]
     },
     "metadata": {
      "needs_background": "light"
     },
     "output_type": "display_data"
    }
   ],
   "source": [
    "plot_feature_importance(features, permut_importance*10000, top_feats=20, title='Permutation importance', \n",
    "                        x_label='Importance')"
   ]
  },
  {
   "cell_type": "markdown",
   "metadata": {},
   "source": [
    "* Используя техники оценки важности признаков можно интерпретировать модель, пытаться генерировать новые признаки или упрощать модель, удаляя самые неинформативные. Попробуем оставить топ информативных признаков (с точки зрения) `permutation importance`. Удаление из модели признаков, как правило, уменьшает ее склонность к переобучению. А самое главное - может существенно ускорить процесс обучения и последующий процесс использования ее в продуктовых целях."
   ]
  },
  {
   "cell_type": "code",
   "execution_count": 31,
   "metadata": {},
   "outputs": [],
   "source": [
    "tuples = [(name, round(score, 3)) for name, score in zip(features, permut_importance)]\n",
    "tuples = sorted(tuples, key=lambda x: x[1])\n",
    "\n",
    "top_selected_feats = [x[0] for x in tuples if x[1] > 0]"
   ]
  },
  {
   "cell_type": "code",
   "execution_count": 32,
   "metadata": {},
   "outputs": [
    {
     "name": "stdout",
     "output_type": "stream",
     "text": [
      "Training with fold 1 started.\n",
      "Training until validation scores don't improve for 50 rounds\n",
      "[50]\tvalid_0's auc: 0.732619\n",
      "[100]\tvalid_0's auc: 0.74496\n",
      "[150]\tvalid_0's auc: 0.750623\n",
      "[200]\tvalid_0's auc: 0.754076\n",
      "[250]\tvalid_0's auc: 0.756627\n",
      "[300]\tvalid_0's auc: 0.758594\n",
      "[350]\tvalid_0's auc: 0.760053\n",
      "[400]\tvalid_0's auc: 0.761259\n",
      "[450]\tvalid_0's auc: 0.762265\n",
      "[500]\tvalid_0's auc: 0.76314\n",
      "[550]\tvalid_0's auc: 0.763808\n",
      "[600]\tvalid_0's auc: 0.764413\n",
      "[650]\tvalid_0's auc: 0.764822\n",
      "[700]\tvalid_0's auc: 0.765343\n",
      "[750]\tvalid_0's auc: 0.76579\n",
      "[800]\tvalid_0's auc: 0.766203\n",
      "[850]\tvalid_0's auc: 0.766536\n",
      "[900]\tvalid_0's auc: 0.76681\n",
      "[950]\tvalid_0's auc: 0.766891\n",
      "[1000]\tvalid_0's auc: 0.767051\n",
      "Did not meet early stopping. Best iteration is:\n",
      "[999]\tvalid_0's auc: 0.767063\n",
      "Training with fold 1 completed.\n",
      "Training with fold 2 started.\n",
      "Training until validation scores don't improve for 50 rounds\n",
      "[50]\tvalid_0's auc: 0.734876\n",
      "[100]\tvalid_0's auc: 0.747566\n",
      "[150]\tvalid_0's auc: 0.753169\n",
      "[200]\tvalid_0's auc: 0.756775\n",
      "[250]\tvalid_0's auc: 0.759143\n",
      "[300]\tvalid_0's auc: 0.760711\n",
      "[350]\tvalid_0's auc: 0.761963\n",
      "[400]\tvalid_0's auc: 0.762973\n",
      "[450]\tvalid_0's auc: 0.764135\n",
      "[500]\tvalid_0's auc: 0.764973\n",
      "[550]\tvalid_0's auc: 0.765697\n",
      "[600]\tvalid_0's auc: 0.766273\n",
      "[650]\tvalid_0's auc: 0.766762\n",
      "[700]\tvalid_0's auc: 0.767018\n",
      "[750]\tvalid_0's auc: 0.767379\n",
      "[800]\tvalid_0's auc: 0.767872\n",
      "[850]\tvalid_0's auc: 0.767994\n",
      "[900]\tvalid_0's auc: 0.76832\n",
      "[950]\tvalid_0's auc: 0.768621\n",
      "[1000]\tvalid_0's auc: 0.768841\n",
      "Did not meet early stopping. Best iteration is:\n",
      "[1000]\tvalid_0's auc: 0.768841\n",
      "Training with fold 2 completed.\n",
      "Training with fold 3 started.\n",
      "Training until validation scores don't improve for 50 rounds\n",
      "[50]\tvalid_0's auc: 0.739132\n",
      "[100]\tvalid_0's auc: 0.751887\n",
      "[150]\tvalid_0's auc: 0.757206\n",
      "[200]\tvalid_0's auc: 0.76089\n",
      "[250]\tvalid_0's auc: 0.763403\n",
      "[300]\tvalid_0's auc: 0.765531\n",
      "[350]\tvalid_0's auc: 0.766967\n",
      "[400]\tvalid_0's auc: 0.767831\n",
      "[450]\tvalid_0's auc: 0.768542\n",
      "[500]\tvalid_0's auc: 0.76934\n",
      "[550]\tvalid_0's auc: 0.769991\n",
      "[600]\tvalid_0's auc: 0.770568\n",
      "[650]\tvalid_0's auc: 0.771089\n",
      "[700]\tvalid_0's auc: 0.771652\n",
      "[750]\tvalid_0's auc: 0.77201\n",
      "[800]\tvalid_0's auc: 0.772305\n",
      "[850]\tvalid_0's auc: 0.772591\n",
      "[900]\tvalid_0's auc: 0.772664\n",
      "[950]\tvalid_0's auc: 0.773069\n",
      "[1000]\tvalid_0's auc: 0.773306\n",
      "Did not meet early stopping. Best iteration is:\n",
      "[999]\tvalid_0's auc: 0.773309\n",
      "Training with fold 3 completed.\n",
      "Training with fold 4 started.\n",
      "Training until validation scores don't improve for 50 rounds\n",
      "[50]\tvalid_0's auc: 0.729737\n",
      "[100]\tvalid_0's auc: 0.743491\n",
      "[150]\tvalid_0's auc: 0.750016\n",
      "[200]\tvalid_0's auc: 0.753713\n",
      "[250]\tvalid_0's auc: 0.756162\n",
      "[300]\tvalid_0's auc: 0.758219\n",
      "[350]\tvalid_0's auc: 0.759753\n",
      "[400]\tvalid_0's auc: 0.761107\n",
      "[450]\tvalid_0's auc: 0.76222\n",
      "[500]\tvalid_0's auc: 0.763218\n",
      "[550]\tvalid_0's auc: 0.76406\n",
      "[600]\tvalid_0's auc: 0.764684\n",
      "[650]\tvalid_0's auc: 0.765357\n",
      "[700]\tvalid_0's auc: 0.765844\n",
      "[750]\tvalid_0's auc: 0.766259\n",
      "[800]\tvalid_0's auc: 0.766756\n",
      "[850]\tvalid_0's auc: 0.767065\n",
      "[900]\tvalid_0's auc: 0.767376\n",
      "[950]\tvalid_0's auc: 0.767534\n",
      "[1000]\tvalid_0's auc: 0.767873\n",
      "Did not meet early stopping. Best iteration is:\n",
      "[1000]\tvalid_0's auc: 0.767873\n",
      "Training with fold 4 completed.\n",
      "Training with fold 5 started.\n",
      "Training until validation scores don't improve for 50 rounds\n",
      "[50]\tvalid_0's auc: 0.738861\n",
      "[100]\tvalid_0's auc: 0.752055\n",
      "[150]\tvalid_0's auc: 0.757372\n",
      "[200]\tvalid_0's auc: 0.760723\n",
      "[250]\tvalid_0's auc: 0.762844\n",
      "[300]\tvalid_0's auc: 0.764538\n",
      "[350]\tvalid_0's auc: 0.765889\n",
      "[400]\tvalid_0's auc: 0.767038\n",
      "[450]\tvalid_0's auc: 0.768088\n",
      "[500]\tvalid_0's auc: 0.768765\n",
      "[550]\tvalid_0's auc: 0.7692\n",
      "[600]\tvalid_0's auc: 0.769709\n",
      "[650]\tvalid_0's auc: 0.770034\n",
      "[700]\tvalid_0's auc: 0.770421\n",
      "[750]\tvalid_0's auc: 0.770587\n",
      "[800]\tvalid_0's auc: 0.770732\n",
      "[850]\tvalid_0's auc: 0.770925\n",
      "[900]\tvalid_0's auc: 0.771103\n",
      "[950]\tvalid_0's auc: 0.771314\n",
      "[1000]\tvalid_0's auc: 0.771454\n",
      "Did not meet early stopping. Best iteration is:\n",
      "[999]\tvalid_0's auc: 0.771467\n",
      "Training with fold 5 completed.\n"
     ]
    }
   ],
   "source": [
    "targets = merged_data.flag.values\n",
    "\n",
    "cv = KFold(n_splits=5, random_state=100, shuffle=True)\n",
    "\n",
    "oof = np.zeros(len(merged_data))\n",
    "train_preds = np.zeros(len(merged_data))\n",
    "\n",
    "new_models = []\n",
    "\n",
    "tree_params = {\n",
    "    'objective': 'binary',\n",
    "    'metric': 'auc',\n",
    "    'learning_rate': 0.05,\n",
    "    'max_depth': 3,\n",
    "    'reg_lambda': 1,\n",
    "    'num_leaves': 64,\n",
    "    'n_jobs': 5,\n",
    "    'n_estimators': 1000\n",
    "}\n",
    "\n",
    "\n",
    "for fold_, (train_idx, val_idx) in enumerate(cv.split(merged_data, targets), 1):\n",
    "    print(f'Training with fold {fold_} started.')\n",
    "    lgb_model = lgb.LGBMClassifier(**tree_params)\n",
    "    train, val = merged_data.iloc[train_idx], merged_data.iloc[val_idx]\n",
    "    \n",
    "    lgb_model.fit(train[top_selected_feats], train.flag.values, eval_set=[(val[top_selected_feats], val.flag.values)],\n",
    "              early_stopping_rounds=50, verbose=50)\n",
    "\n",
    "    \n",
    "    oof[val_idx] = lgb_model.predict_proba(val[top_selected_feats])[:, 1]\n",
    "    train_preds[train_idx] += lgb_model.predict_proba(train[top_selected_feats])[:, 1] / (cv.n_splits-1)\n",
    "    new_models.append(lgb_model)\n",
    "    print(f'Training with fold {fold_} completed.')"
   ]
  },
  {
   "cell_type": "code",
   "execution_count": 33,
   "metadata": {},
   "outputs": [
    {
     "data": {
      "text/plain": [
       "('Train roc-auc', 0.7970652111991933)"
      ]
     },
     "execution_count": 33,
     "metadata": {},
     "output_type": "execute_result"
    }
   ],
   "source": [
    "'Train roc-auc', roc_auc_score(targets, train_preds)"
   ]
  },
  {
   "cell_type": "code",
   "execution_count": 34,
   "metadata": {},
   "outputs": [
    {
     "data": {
      "text/plain": [
       "('CV roc-auc', 0.7697037325078495)"
      ]
     },
     "execution_count": 34,
     "metadata": {},
     "output_type": "execute_result"
    }
   ],
   "source": [
    "'CV roc-auc', roc_auc_score(targets, oof)"
   ]
  },
  {
   "cell_type": "code",
   "execution_count": 35,
   "metadata": {},
   "outputs": [
    {
     "name": "stderr",
     "output_type": "stream",
     "text": [
      "/usr/local/lib/python3.7/site-packages/ipykernel_launcher.py:3: TqdmDeprecationWarning: This function will be removed in tqdm==5.0.0\n",
      "Please use `tqdm.notebook.tqdm` instead of `tqdm.tqdm_notebook`\n",
      "  This is separate from the ipykernel package so we can avoid doing imports until\n"
     ]
    },
    {
     "data": {
      "application/vnd.jupyter.widget-view+json": {
       "model_id": "49a41fe800724598933aa3ad6491cacd",
       "version_major": 2,
       "version_minor": 0
      },
      "text/plain": [
       "HBox(children=(HTML(value=''), FloatProgress(value=0.0, max=5.0), HTML(value='')))"
      ]
     },
     "metadata": {},
     "output_type": "display_data"
    },
    {
     "name": "stdout",
     "output_type": "stream",
     "text": [
      "\n"
     ]
    }
   ],
   "source": [
    "score = np.zeros(len(merged_test_data))\n",
    "\n",
    "for model in tqdm.tqdm_notebook(new_models):\n",
    "    score += model.predict_proba(merged_test_data[top_selected_feats])[:, 1] / len(models)\n",
    "    \n",
    "submission = pd.DataFrame({\n",
    "    'app_id' : test_data.app_id.values,\n",
    "    'score': score\n",
    "}) # ~ 0.736 roc-auc на public test"
   ]
  },
  {
   "cell_type": "markdown",
   "metadata": {},
   "source": [
    "* Можно попробовать продвинутые способы изучения предсказаний модели - `SHAP values`. Мы используем так называемый `summary plot`, позволяющий получить общую картину о влиянии того или иного признака на предсказание модели визуализуруя всю выборку сразу."
   ]
  },
  {
   "cell_type": "code",
   "execution_count": 36,
   "metadata": {},
   "outputs": [
    {
     "name": "stdout",
     "output_type": "stream",
     "text": [
      "Training until validation scores don't improve for 50 rounds\n",
      "Did not meet early stopping. Best iteration is:\n",
      "[998]\tvalid_0's auc: 0.776508\n"
     ]
    },
    {
     "data": {
      "text/plain": [
       "LGBMClassifier(learning_rate=0.05, max_depth=3, metric='auc', n_estimators=1000,\n",
       "               n_jobs=5, num_leaves=64, objective='binary', reg_lambda=1,\n",
       "               seed=100)"
      ]
     },
     "execution_count": 36,
     "metadata": {},
     "output_type": "execute_result"
    }
   ],
   "source": [
    "train, val = train_test_split(merged_data, random_state=42, test_size=0.1)\n",
    "\n",
    "tree_params = {\n",
    "    'objective': 'binary',\n",
    "    'metric': 'auc',\n",
    "    'learning_rate': 0.05,\n",
    "    'max_depth': 3,\n",
    "    'reg_lambda': 1,\n",
    "    'num_leaves': 64,\n",
    "    'seed': 100,\n",
    "    'n_jobs': 5,\n",
    "    'n_estimators': 1000\n",
    "}\n",
    "\n",
    "lgb_model = lgb.LGBMClassifier(**tree_params)\n",
    "lgb_model.fit(train[features], train.flag.values, eval_set=[(val[features], val.flag.values)],\n",
    "              early_stopping_rounds=50, verbose=-1)"
   ]
  },
  {
   "cell_type": "code",
   "execution_count": 37,
   "metadata": {},
   "outputs": [],
   "source": [
    "import shap"
   ]
  },
  {
   "cell_type": "code",
   "execution_count": 38,
   "metadata": {},
   "outputs": [],
   "source": [
    "explainer = shap.TreeExplainer(lgb_model)"
   ]
  },
  {
   "cell_type": "code",
   "execution_count": 39,
   "metadata": {},
   "outputs": [
    {
     "name": "stderr",
     "output_type": "stream",
     "text": [
      "LightGBM binary classifier with TreeExplainer shap values output has changed to a list of ndarray\n"
     ]
    }
   ],
   "source": [
    "shap_values = explainer.shap_values(val[features])"
   ]
  },
  {
   "cell_type": "markdown",
   "metadata": {},
   "source": [
    "* результаты довольно хорошо согласуются с перестановочной важностью.\n",
    "\n",
    "* что показывает этот график:\n",
    "    * по вертикали отложена каждая фича\n",
    "    * каждая точка графика - признак некоторого сэмпла\n",
    "    * цвет - значение фичи, чем краснее - тем значение фичи выше, и наоборот\n",
    "    * горизонтальное положение точки показывает, приводит ли значение конкретной фичи этого сэмпла к росту предсказания, или наоборот. Например, из графика можно увидеть тренд, что уменьшение признака `hour_diff_median` приводит к росту значения целевой переменной."
   ]
  },
  {
   "cell_type": "code",
   "execution_count": 40,
   "metadata": {},
   "outputs": [
    {
     "data": {
      "image/png": "[encoded data removed]",
      "text/plain": [
       "<Figure size 576x684 with 2 Axes>"
      ]
     },
     "metadata": {
      "needs_background": "light"
     },
     "output_type": "display_data"
    }
   ],
   "source": [
    "shap.summary_plot(shap_values[1], val[features])"
   ]
  },
  {
   "cell_type": "markdown",
   "metadata": {},
   "source": [
    "* Еще одна интересная техника оценки важности и отбора признаков - `target permutation`\n",
    "\n",
    "\n",
    "* Отбор признаков через `target permutation` основан на сравнении важности признака, которая быал получена при обучении на обычной выборке, с распределением важности этого признака для моделей, которые обучены на выборках с перемешанной целевой переменной."
   ]
  },
  {
   "cell_type": "code",
   "execution_count": 41,
   "metadata": {},
   "outputs": [],
   "source": [
    "def get_feature_importances(frame, shuffle=False, seed=100, importance_type='gain'):\n",
    "    # запишем целевую target в переменную\n",
    "    y = frame.flag.values.copy()\n",
    "    if shuffle:\n",
    "        # перемешаем целевую переменную\n",
    "        y = frame.flag.copy().sample(frac=1.0).values\n",
    "    \n",
    "    # обучим случайный лес из LightGBM ( реализация гораздо быстрее, чем в sklearn )\n",
    "    # сделаем это для того, чтобы не выделять отдельную выборку под валидацию для градиентного бустинга\n",
    "    tree_params = {\n",
    "    'objective': 'binary',\n",
    "    'boosting_type': 'rf',\n",
    "    'metric': 'auc',\n",
    "    'subsample_freq': np.random.choice([5, 10, 15, 20]),\n",
    "    'subsample': np.random.choice([0.6, 0.8, 0.9]),\n",
    "    'max_depth': np.random.choice([7, 8, 10]),\n",
    "    'num_leaves': 64,\n",
    "    'seed': seed,\n",
    "    'n_jobs': 5,\n",
    "    'n_estimators': 100,\n",
    "    'importance_type': importance_type\n",
    "    }\n",
    "    \n",
    "    lgb_model = lgb.LGBMClassifier(**tree_params)\n",
    "    lgb_model.fit(frame[features], y)\n",
    "    \n",
    "    importance = pd.DataFrame({\n",
    "        'feature': features,\n",
    "        f'importance_{importance_type}': lgb_model.feature_importances_,\n",
    "        'score': roc_auc_score(y, lgb_model.predict_proba(frame[features])[:, 1])\n",
    "    })\n",
    "    \n",
    "    return importance"
   ]
  },
  {
   "cell_type": "markdown",
   "metadata": {},
   "source": [
    "* Посчитаем важность признаков (на основе количества сплитов по признаку в алгоритме random forest) при обучении на исходной выборке"
   ]
  },
  {
   "cell_type": "code",
   "execution_count": 42,
   "metadata": {},
   "outputs": [
    {
     "data": {
      "text/html": [
       "<div>\n",
       "<style scoped>\n",
       "    .dataframe tbody tr th:only-of-type {\n",
       "        vertical-align: middle;\n",
       "    }\n",
       "\n",
       "    .dataframe tbody tr th {\n",
       "        vertical-align: top;\n",
       "    }\n",
       "\n",
       "    .dataframe thead th {\n",
       "        text-align: right;\n",
       "    }\n",
       "</style>\n",
       "<table border=\"1\" class=\"dataframe\">\n",
       "  <thead>\n",
       "    <tr style=\"text-align: right;\">\n",
       "      <th></th>\n",
       "      <th>feature</th>\n",
       "      <th>importance_split</th>\n",
       "      <th>score</th>\n",
       "    </tr>\n",
       "  </thead>\n",
       "  <tbody>\n",
       "    <tr>\n",
       "      <th>0</th>\n",
       "      <td>count_mcc_category_1</td>\n",
       "      <td>60</td>\n",
       "      <td>0.712091</td>\n",
       "    </tr>\n",
       "    <tr>\n",
       "      <th>1</th>\n",
       "      <td>count_mcc_category_2</td>\n",
       "      <td>0</td>\n",
       "      <td>0.712091</td>\n",
       "    </tr>\n",
       "    <tr>\n",
       "      <th>2</th>\n",
       "      <td>count_mcc_category_3</td>\n",
       "      <td>0</td>\n",
       "      <td>0.712091</td>\n",
       "    </tr>\n",
       "    <tr>\n",
       "      <th>3</th>\n",
       "      <td>count_mcc_category_4</td>\n",
       "      <td>30</td>\n",
       "      <td>0.712091</td>\n",
       "    </tr>\n",
       "    <tr>\n",
       "      <th>4</th>\n",
       "      <td>count_mcc_category_5</td>\n",
       "      <td>0</td>\n",
       "      <td>0.712091</td>\n",
       "    </tr>\n",
       "  </tbody>\n",
       "</table>\n",
       "</div>"
      ],
      "text/plain": [
       "                feature  importance_split     score\n",
       "0  count_mcc_category_1                60  0.712091\n",
       "1  count_mcc_category_2                 0  0.712091\n",
       "2  count_mcc_category_3                 0  0.712091\n",
       "3  count_mcc_category_4                30  0.712091\n",
       "4  count_mcc_category_5                 0  0.712091"
      ]
     },
     "execution_count": 42,
     "metadata": {},
     "output_type": "execute_result"
    }
   ],
   "source": [
    "real_importance = get_feature_importances(train, shuffle=False, seed=100, importance_type='split')\n",
    "real_importance.head()"
   ]
  },
  {
   "cell_type": "markdown",
   "metadata": {},
   "source": [
    "* Посчитаем важность признаков для выборок, у которых целевая переменная перемешана. То есть фактически, обучаем алгоритм на шуме."
   ]
  },
  {
   "cell_type": "code",
   "execution_count": 43,
   "metadata": {},
   "outputs": [],
   "source": [
    "def calculate_null_importance(frame, num_runs=80, importance_type='gain'):\n",
    "    null_importance = pd.DataFrame()\n",
    "    for i in tqdm.tqdm_notebook(range(num_runs)):\n",
    "        # посчитаем текущую важность признаков при перемешивании целевой переменной\n",
    "        importance = get_feature_importances(frame, shuffle=True, seed=None, importance_type=importance_type)\n",
    "        importance['run'] = i + 1 \n",
    "        null_importance = pd.concat([null_importance, importance], axis=0)\n",
    "    return null_importance"
   ]
  },
  {
   "cell_type": "code",
   "execution_count": 44,
   "metadata": {},
   "outputs": [
    {
     "name": "stderr",
     "output_type": "stream",
     "text": [
      "This function will be removed in tqdm==5.0.0\n",
      "Please use `tqdm.notebook.tqdm` instead of `tqdm.tqdm_notebook`\n"
     ]
    },
    {
     "data": {
      "application/vnd.jupyter.widget-view+json": {
       "model_id": "07b5edc275304d77ab79034e1c71ecb3",
       "version_major": 2,
       "version_minor": 0
      },
      "text/plain": [
       "HBox(children=(HTML(value=''), FloatProgress(value=0.0, max=30.0), HTML(value='')))"
      ]
     },
     "metadata": {},
     "output_type": "display_data"
    },
    {
     "name": "stdout",
     "output_type": "stream",
     "text": [
      "\n"
     ]
    }
   ],
   "source": [
    "null_importance = calculate_null_importance(train, num_runs=30, importance_type='split')"
   ]
  },
  {
   "cell_type": "markdown",
   "metadata": {},
   "source": [
    "* Теперь имеем возможность для каждого признака построить гистограмму важности этого признака при обучении на выборке с перемешанным таргетом и на выборке с реальной целевой переменной. В идеале, гистограмма должна быть как можно дальше от реального значения важности признака"
   ]
  },
  {
   "cell_type": "code",
   "execution_count": 45,
   "metadata": {},
   "outputs": [],
   "source": [
    "def plot_distribution(real_importance, null_importance, feature_name, importance_name='gain'):\n",
    "    fig, ax = plt.subplots(figsize=(8, 6))\n",
    "    a = ax.hist(null_importance.loc[null_importance['feature'] == feature_name, f'importance_{importance_name}'].values, \n",
    "                label='Null importances')\n",
    "    \n",
    "    ax.vlines(x=real_importance.loc[real_importance['feature'] == feature_name, f'importance_{importance_name}'].mean(), \n",
    "               ymin=0, ymax=np.max(a[0]), color='r',linewidth=10, label='Real Target')\n",
    "    ax.legend()\n",
    "    ax.set_title(f'Split Importance of {feature_name}', fontweight='bold')\n",
    "    plt.xlabel(f'Null Importance ({importance_name}) Distribution for {feature_name}')"
   ]
  },
  {
   "cell_type": "code",
   "execution_count": 46,
   "metadata": {},
   "outputs": [
    {
     "data": {
      "image/png": "[encoded data removed]",
      "text/plain": [
       "<Figure size 576x432 with 1 Axes>"
      ]
     },
     "metadata": {
      "needs_background": "light"
     },
     "output_type": "display_data"
    }
   ],
   "source": [
    "plot_distribution(real_importance, null_importance, feature_name='product', importance_name='split')"
   ]
  },
  {
   "cell_type": "code",
   "execution_count": 47,
   "metadata": {},
   "outputs": [
    {
     "data": {
      "image/png": "[encoded data removed]",
      "text/plain": [
       "<Figure size 576x432 with 1 Axes>"
      ]
     },
     "metadata": {
      "needs_background": "light"
     },
     "output_type": "display_data"
    }
   ],
   "source": [
    "plot_distribution(real_importance, null_importance, feature_name='hour_diff_median', importance_name='split')"
   ]
  },
  {
   "cell_type": "code",
   "execution_count": 48,
   "metadata": {},
   "outputs": [
    {
     "data": {
      "image/png": "[encoded data removed]",
      "text/plain": [
       "<Figure size 576x432 with 1 Axes>"
      ]
     },
     "metadata": {
      "needs_background": "light"
     },
     "output_type": "display_data"
    }
   ],
   "source": [
    "plot_distribution(real_importance, null_importance, feature_name='amnt_sum', importance_name='split')"
   ]
  },
  {
   "cell_type": "markdown",
   "metadata": {},
   "source": [
    "* Попробуем поставить каждому признаку новый скор, важность, с учетом той информации, которую имеем. Один из вариантов - поделить раельноа значение важности признака на среднее значение для перемешанных важностей этого признака. "
   ]
  },
  {
   "cell_type": "code",
   "execution_count": 49,
   "metadata": {},
   "outputs": [],
   "source": [
    "scores = []\n",
    "importance_name = 'split'\n",
    "\n",
    "for feature in features:\n",
    "    hist_null_importance = null_importance.loc[null_importance['feature'] == feature, f'importance_{importance_name}'].values\n",
    "    actual_importance = real_importance.loc[real_importance['feature'] == feature, f'importance_{importance_name}'].mean()\n",
    "    score = (1e-10 + actual_importance) / (1 + np.mean(hist_null_importance))        \n",
    "    scores.append(round(score, 3))"
   ]
  },
  {
   "cell_type": "code",
   "execution_count": 50,
   "metadata": {},
   "outputs": [
    {
     "data": {
      "image/png": "[encoded data removed]",
      "text/plain": [
       "<Figure size 720x576 with 1 Axes>"
      ]
     },
     "metadata": {
      "needs_background": "light"
     },
     "output_type": "display_data"
    }
   ],
   "source": [
    "plot_feature_importance(features, scores, top_feats=20, title='target permutation importance', \n",
    "                        x_label='Importance')"
   ]
  },
  {
   "cell_type": "code",
   "execution_count": 51,
   "metadata": {},
   "outputs": [],
   "source": [
    "tuples = [(name, round(score, 3)) for name, score in zip(features, scores)]\n",
    "tuples = sorted(tuples, key=lambda x: x[1])\n",
    "\n",
    "top_selected_feats = [x[0] for x in tuples if x[1] > 0]"
   ]
  },
  {
   "cell_type": "code",
   "execution_count": 52,
   "metadata": {},
   "outputs": [
    {
     "name": "stdout",
     "output_type": "stream",
     "text": [
      "Training with fold 1 started.\n",
      "Training until validation scores don't improve for 50 rounds\n",
      "[50]\tvalid_0's auc: 0.73225\n",
      "[100]\tvalid_0's auc: 0.743442\n",
      "[150]\tvalid_0's auc: 0.748249\n",
      "[200]\tvalid_0's auc: 0.751263\n",
      "[250]\tvalid_0's auc: 0.753172\n",
      "[300]\tvalid_0's auc: 0.754708\n",
      "[350]\tvalid_0's auc: 0.755917\n",
      "[400]\tvalid_0's auc: 0.756828\n",
      "[450]\tvalid_0's auc: 0.757536\n",
      "[500]\tvalid_0's auc: 0.758157\n",
      "[550]\tvalid_0's auc: 0.758789\n",
      "[600]\tvalid_0's auc: 0.759167\n",
      "[650]\tvalid_0's auc: 0.759599\n",
      "[700]\tvalid_0's auc: 0.760037\n",
      "[750]\tvalid_0's auc: 0.760421\n",
      "[800]\tvalid_0's auc: 0.760636\n",
      "[850]\tvalid_0's auc: 0.760988\n",
      "[900]\tvalid_0's auc: 0.761195\n",
      "[950]\tvalid_0's auc: 0.761444\n",
      "[1000]\tvalid_0's auc: 0.761556\n",
      "Did not meet early stopping. Best iteration is:\n",
      "[1000]\tvalid_0's auc: 0.761556\n",
      "Training with fold 1 completed.\n",
      "Training with fold 2 started.\n",
      "Training until validation scores don't improve for 50 rounds\n",
      "[50]\tvalid_0's auc: 0.735097\n",
      "[100]\tvalid_0's auc: 0.747301\n",
      "[150]\tvalid_0's auc: 0.752221\n",
      "[200]\tvalid_0's auc: 0.755021\n",
      "[250]\tvalid_0's auc: 0.756904\n",
      "[300]\tvalid_0's auc: 0.75838\n",
      "[350]\tvalid_0's auc: 0.759752\n",
      "[400]\tvalid_0's auc: 0.760672\n",
      "[450]\tvalid_0's auc: 0.761477\n",
      "[500]\tvalid_0's auc: 0.762029\n",
      "[550]\tvalid_0's auc: 0.762598\n",
      "[600]\tvalid_0's auc: 0.763059\n",
      "[650]\tvalid_0's auc: 0.763622\n",
      "[700]\tvalid_0's auc: 0.7641\n",
      "[750]\tvalid_0's auc: 0.76444\n",
      "[800]\tvalid_0's auc: 0.764871\n",
      "[850]\tvalid_0's auc: 0.765219\n",
      "[900]\tvalid_0's auc: 0.765581\n",
      "[950]\tvalid_0's auc: 0.765825\n",
      "[1000]\tvalid_0's auc: 0.766028\n",
      "Did not meet early stopping. Best iteration is:\n",
      "[1000]\tvalid_0's auc: 0.766028\n",
      "Training with fold 2 completed.\n",
      "Training with fold 3 started.\n",
      "Training until validation scores don't improve for 50 rounds\n",
      "[50]\tvalid_0's auc: 0.737921\n",
      "[100]\tvalid_0's auc: 0.750975\n",
      "[150]\tvalid_0's auc: 0.755545\n",
      "[200]\tvalid_0's auc: 0.758111\n",
      "[250]\tvalid_0's auc: 0.760118\n",
      "[300]\tvalid_0's auc: 0.76161\n",
      "[350]\tvalid_0's auc: 0.762943\n",
      "[400]\tvalid_0's auc: 0.763748\n",
      "[450]\tvalid_0's auc: 0.764418\n",
      "[500]\tvalid_0's auc: 0.765208\n",
      "[550]\tvalid_0's auc: 0.765723\n",
      "[600]\tvalid_0's auc: 0.766203\n",
      "[650]\tvalid_0's auc: 0.766639\n",
      "[700]\tvalid_0's auc: 0.767157\n",
      "[750]\tvalid_0's auc: 0.767478\n",
      "[800]\tvalid_0's auc: 0.767708\n",
      "[850]\tvalid_0's auc: 0.767942\n",
      "[900]\tvalid_0's auc: 0.768225\n",
      "[950]\tvalid_0's auc: 0.768524\n",
      "[1000]\tvalid_0's auc: 0.768811\n",
      "Did not meet early stopping. Best iteration is:\n",
      "[999]\tvalid_0's auc: 0.768819\n",
      "Training with fold 3 completed.\n",
      "Training with fold 4 started.\n",
      "Training until validation scores don't improve for 50 rounds\n",
      "[50]\tvalid_0's auc: 0.730266\n",
      "[100]\tvalid_0's auc: 0.742554\n",
      "[150]\tvalid_0's auc: 0.747548\n",
      "[200]\tvalid_0's auc: 0.750697\n",
      "[250]\tvalid_0's auc: 0.752832\n",
      "[300]\tvalid_0's auc: 0.754546\n",
      "[350]\tvalid_0's auc: 0.7558\n",
      "[400]\tvalid_0's auc: 0.756954\n",
      "[450]\tvalid_0's auc: 0.75782\n",
      "[500]\tvalid_0's auc: 0.758653\n",
      "[550]\tvalid_0's auc: 0.759252\n",
      "[600]\tvalid_0's auc: 0.759719\n",
      "[650]\tvalid_0's auc: 0.760127\n",
      "[700]\tvalid_0's auc: 0.760516\n",
      "[750]\tvalid_0's auc: 0.760863\n",
      "[800]\tvalid_0's auc: 0.761139\n",
      "[850]\tvalid_0's auc: 0.761604\n",
      "[900]\tvalid_0's auc: 0.761866\n",
      "[950]\tvalid_0's auc: 0.762074\n",
      "[1000]\tvalid_0's auc: 0.762332\n",
      "Did not meet early stopping. Best iteration is:\n",
      "[997]\tvalid_0's auc: 0.762338\n",
      "Training with fold 4 completed.\n",
      "Training with fold 5 started.\n",
      "Training until validation scores don't improve for 50 rounds\n",
      "[50]\tvalid_0's auc: 0.737131\n",
      "[100]\tvalid_0's auc: 0.749326\n",
      "[150]\tvalid_0's auc: 0.754292\n",
      "[200]\tvalid_0's auc: 0.756917\n",
      "[250]\tvalid_0's auc: 0.758919\n",
      "[300]\tvalid_0's auc: 0.76036\n",
      "[350]\tvalid_0's auc: 0.761399\n",
      "[400]\tvalid_0's auc: 0.762331\n",
      "[450]\tvalid_0's auc: 0.762995\n",
      "[500]\tvalid_0's auc: 0.763656\n",
      "[550]\tvalid_0's auc: 0.764151\n",
      "[600]\tvalid_0's auc: 0.764535\n",
      "[650]\tvalid_0's auc: 0.764861\n",
      "[700]\tvalid_0's auc: 0.765111\n",
      "[750]\tvalid_0's auc: 0.765348\n",
      "[800]\tvalid_0's auc: 0.765507\n",
      "[850]\tvalid_0's auc: 0.765715\n",
      "[900]\tvalid_0's auc: 0.765935\n",
      "[950]\tvalid_0's auc: 0.766044\n",
      "[1000]\tvalid_0's auc: 0.766357\n",
      "Did not meet early stopping. Best iteration is:\n",
      "[998]\tvalid_0's auc: 0.766359\n",
      "Training with fold 5 completed.\n"
     ]
    }
   ],
   "source": [
    "targets = merged_data.flag.values\n",
    "\n",
    "cv = KFold(n_splits=5, random_state=100, shuffle=True)\n",
    "\n",
    "oof = np.zeros(len(merged_data))\n",
    "train_preds = np.zeros(len(merged_data))\n",
    "\n",
    "new_models = []\n",
    "\n",
    "tree_params = {\n",
    "    'objective': 'binary',\n",
    "    'metric': 'auc',\n",
    "    'learning_rate': 0.05,\n",
    "    'max_depth': 3,\n",
    "    'reg_lambda': 1,\n",
    "    'num_leaves': 64,\n",
    "    'n_jobs': 5,\n",
    "    'n_estimators': 1000\n",
    "}\n",
    "\n",
    "\n",
    "for fold_, (train_idx, val_idx) in enumerate(cv.split(merged_data, targets), 1):\n",
    "    print(f'Training with fold {fold_} started.')\n",
    "    lgb_model = lgb.LGBMClassifier(**tree_params)\n",
    "    train, val = merged_data.iloc[train_idx], merged_data.iloc[val_idx]\n",
    "    \n",
    "    lgb_model.fit(train[top_selected_feats], train.flag.values, eval_set=[(val[top_selected_feats], val.flag.values)],\n",
    "              early_stopping_rounds=50, verbose=50)\n",
    "\n",
    "    \n",
    "    oof[val_idx] = lgb_model.predict_proba(val[top_selected_feats])[:, 1]\n",
    "    train_preds[train_idx] += lgb_model.predict_proba(train[top_selected_feats])[:, 1] / (cv.n_splits-1)\n",
    "    new_models.append(lgb_model)\n",
    "    print(f'Training with fold {fold_} completed.')"
   ]
  },
  {
   "cell_type": "code",
   "execution_count": 53,
   "metadata": {},
   "outputs": [
    {
     "data": {
      "text/plain": [
       "('Train roc-auc', 0.7930416296206335)"
      ]
     },
     "execution_count": 53,
     "metadata": {},
     "output_type": "execute_result"
    }
   ],
   "source": [
    "'Train roc-auc', roc_auc_score(targets, train_preds)"
   ]
  },
  {
   "cell_type": "code",
   "execution_count": 54,
   "metadata": {},
   "outputs": [
    {
     "data": {
      "text/plain": [
       "('CV roc-auc', 0.7650146788376628)"
      ]
     },
     "execution_count": 54,
     "metadata": {},
     "output_type": "execute_result"
    }
   ],
   "source": [
    "'CV roc-auc', roc_auc_score(targets, oof)"
   ]
  },
  {
   "cell_type": "code",
   "execution_count": 55,
   "metadata": {},
   "outputs": [
    {
     "name": "stderr",
     "output_type": "stream",
     "text": [
      "This function will be removed in tqdm==5.0.0\n",
      "Please use `tqdm.notebook.tqdm` instead of `tqdm.tqdm_notebook`\n"
     ]
    },
    {
     "data": {
      "application/vnd.jupyter.widget-view+json": {
       "model_id": "970702f6692c40b8bd87597cc1372a91",
       "version_major": 2,
       "version_minor": 0
      },
      "text/plain": [
       "HBox(children=(HTML(value=''), FloatProgress(value=0.0, max=5.0), HTML(value='')))"
      ]
     },
     "metadata": {},
     "output_type": "display_data"
    },
    {
     "name": "stdout",
     "output_type": "stream",
     "text": [
      "\n"
     ]
    }
   ],
   "source": [
    "score = np.zeros(len(merged_test_data))\n",
    "\n",
    "for model in tqdm.tqdm_notebook(new_models):\n",
    "    score += model.predict_proba(merged_test_data[top_selected_feats])[:, 1] / len(models)\n",
    "    \n",
    "submission = pd.DataFrame({\n",
    "    'app_id' : test_data.app_id.values,\n",
    "    'score': score\n",
    "}) # ~ 0.733 на public test"
   ]
  },
  {
   "cell_type": "markdown",
   "metadata": {},
   "source": [
    "* После того, как бейзлайн построен - можно приступить к его улучшению. Во-первых, сгенерировать большое количество разнообразных фич на основе предложенных данных. Во-вторых, попробовать модели другой природы. \n",
    "\n",
    "\n",
    "* С увеличением количества признаков `LightGBM`  при запуске на CPU может начать работать очень медленно. Его можно ускорить, если скомпилировать под GPU, совместимую с CUDA. Альтернативно, при наличии совместимой с CUDA GPU, можно использовать `Catboost`, который поддерживает работу с видеокартой из коробки. Обучение на GPU на больших выборках дает ускорение обучения в разы. Так же, градиентный бустинг от Яндекса имеет огромное количество реализованных фичей: мониторинг обучения с графиками, поддержку интерпретируемости моделей и отбор признаков."
   ]
  },
  {
   "cell_type": "markdown",
   "metadata": {},
   "source": [
    "### 5. Catboost + GPU"
   ]
  },
  {
   "cell_type": "code",
   "execution_count": 56,
   "metadata": {},
   "outputs": [
    {
     "name": "stdout",
     "output_type": "stream",
     "text": [
      "Training with fold 1 started.\n",
      "0:\tlearn: 0.6291874\ttest: 0.6279340\tbest: 0.6279340 (0)\ttotal: 12.1ms\tremaining: 12.1s\n",
      "50:\tlearn: 0.7392549\ttest: 0.7347890\tbest: 0.7347890 (50)\ttotal: 564ms\tremaining: 10.5s\n",
      "100:\tlearn: 0.7459507\ttest: 0.7409845\tbest: 0.7409845 (100)\ttotal: 1.1s\tremaining: 9.84s\n",
      "150:\tlearn: 0.7513656\ttest: 0.7451563\tbest: 0.7451671 (148)\ttotal: 1.64s\tremaining: 9.25s\n",
      "200:\tlearn: 0.7551616\ttest: 0.7483237\tbest: 0.7483237 (200)\ttotal: 2.18s\tremaining: 8.66s\n",
      "250:\tlearn: 0.7582723\ttest: 0.7507600\tbest: 0.7507600 (250)\ttotal: 2.7s\tremaining: 8.06s\n",
      "300:\tlearn: 0.7606609\ttest: 0.7526088\tbest: 0.7526088 (300)\ttotal: 3.22s\tremaining: 7.48s\n",
      "350:\tlearn: 0.7623812\ttest: 0.7538738\tbest: 0.7538738 (350)\ttotal: 3.75s\tremaining: 6.93s\n",
      "400:\tlearn: 0.7640367\ttest: 0.7551115\tbest: 0.7551115 (400)\ttotal: 4.26s\tremaining: 6.37s\n",
      "450:\tlearn: 0.7655527\ttest: 0.7561742\tbest: 0.7561742 (450)\ttotal: 4.78s\tremaining: 5.82s\n",
      "500:\tlearn: 0.7667744\ttest: 0.7570030\tbest: 0.7570030 (500)\ttotal: 5.29s\tremaining: 5.27s\n",
      "550:\tlearn: 0.7679733\ttest: 0.7577715\tbest: 0.7577715 (550)\ttotal: 5.8s\tremaining: 4.72s\n",
      "600:\tlearn: 0.7689591\ttest: 0.7583533\tbest: 0.7583533 (600)\ttotal: 6.31s\tremaining: 4.19s\n",
      "650:\tlearn: 0.7698652\ttest: 0.7589409\tbest: 0.7589464 (649)\ttotal: 6.81s\tremaining: 3.65s\n",
      "700:\tlearn: 0.7708660\ttest: 0.7595271\tbest: 0.7595271 (700)\ttotal: 7.33s\tremaining: 3.13s\n",
      "750:\tlearn: 0.7717124\ttest: 0.7598893\tbest: 0.7598938 (748)\ttotal: 7.84s\tremaining: 2.6s\n",
      "800:\tlearn: 0.7726104\ttest: 0.7603469\tbest: 0.7603579 (799)\ttotal: 8.35s\tremaining: 2.07s\n",
      "850:\tlearn: 0.7734760\ttest: 0.7608704\tbest: 0.7608704 (850)\ttotal: 8.86s\tremaining: 1.55s\n",
      "900:\tlearn: 0.7742023\ttest: 0.7612708\tbest: 0.7612708 (900)\ttotal: 9.37s\tremaining: 1.03s\n",
      "950:\tlearn: 0.7749412\ttest: 0.7616258\tbest: 0.7616258 (950)\ttotal: 9.88s\tremaining: 509ms\n",
      "999:\tlearn: 0.7756845\ttest: 0.7619766\tbest: 0.7619766 (999)\ttotal: 10.4s\tremaining: 0us\n",
      "bestTest = 0.7619765699\n",
      "bestIteration = 999\n",
      "Training with fold 1 completed.\n",
      "Training with fold 2 started.\n",
      "0:\tlearn: 0.6304988\ttest: 0.6254514\tbest: 0.6254514 (0)\ttotal: 11.1ms\tremaining: 11.1s\n",
      "50:\tlearn: 0.7395655\ttest: 0.7359384\tbest: 0.7359384 (50)\ttotal: 548ms\tremaining: 10.2s\n",
      "100:\tlearn: 0.7461653\ttest: 0.7429362\tbest: 0.7429362 (100)\ttotal: 1.09s\tremaining: 9.72s\n",
      "150:\tlearn: 0.7508845\ttest: 0.7471907\tbest: 0.7471907 (150)\ttotal: 1.63s\tremaining: 9.17s\n",
      "200:\tlearn: 0.7545590\ttest: 0.7503496\tbest: 0.7503496 (200)\ttotal: 2.17s\tremaining: 8.62s\n",
      "250:\tlearn: 0.7576911\ttest: 0.7529099\tbest: 0.7529099 (250)\ttotal: 2.7s\tremaining: 8.06s\n",
      "300:\tlearn: 0.7600501\ttest: 0.7547365\tbest: 0.7547365 (300)\ttotal: 3.23s\tremaining: 7.5s\n",
      "350:\tlearn: 0.7622384\ttest: 0.7562747\tbest: 0.7562747 (350)\ttotal: 3.78s\tremaining: 6.99s\n",
      "400:\tlearn: 0.7638468\ttest: 0.7573179\tbest: 0.7573179 (400)\ttotal: 4.33s\tremaining: 6.47s\n",
      "450:\tlearn: 0.7651953\ttest: 0.7581879\tbest: 0.7581879 (450)\ttotal: 4.86s\tremaining: 5.92s\n",
      "500:\tlearn: 0.7664355\ttest: 0.7588837\tbest: 0.7588837 (500)\ttotal: 5.38s\tremaining: 5.36s\n",
      "550:\tlearn: 0.7676315\ttest: 0.7595212\tbest: 0.7595212 (550)\ttotal: 5.91s\tremaining: 4.81s\n",
      "600:\tlearn: 0.7687218\ttest: 0.7601351\tbest: 0.7601351 (600)\ttotal: 6.42s\tremaining: 4.26s\n",
      "650:\tlearn: 0.7697330\ttest: 0.7606960\tbest: 0.7606960 (650)\ttotal: 6.93s\tremaining: 3.72s\n",
      "700:\tlearn: 0.7707027\ttest: 0.7612073\tbest: 0.7612083 (699)\ttotal: 7.46s\tremaining: 3.18s\n",
      "750:\tlearn: 0.7715873\ttest: 0.7616709\tbest: 0.7616709 (750)\ttotal: 7.97s\tremaining: 2.64s\n",
      "800:\tlearn: 0.7725404\ttest: 0.7621998\tbest: 0.7621998 (800)\ttotal: 8.49s\tremaining: 2.11s\n",
      "850:\tlearn: 0.7734906\ttest: 0.7626468\tbest: 0.7626468 (850)\ttotal: 9.01s\tremaining: 1.58s\n",
      "900:\tlearn: 0.7742140\ttest: 0.7630057\tbest: 0.7630057 (900)\ttotal: 9.53s\tremaining: 1.05s\n",
      "950:\tlearn: 0.7750503\ttest: 0.7634965\tbest: 0.7634965 (950)\ttotal: 10.1s\tremaining: 518ms\n",
      "999:\tlearn: 0.7758575\ttest: 0.7638956\tbest: 0.7638956 (999)\ttotal: 10.6s\tremaining: 0us\n",
      "bestTest = 0.7638956308\n",
      "bestIteration = 999\n",
      "Training with fold 2 completed.\n",
      "Training with fold 3 started.\n",
      "0:\tlearn: 0.6325390\ttest: 0.6366109\tbest: 0.6366109 (0)\ttotal: 12ms\tremaining: 12s\n",
      "50:\tlearn: 0.7389131\ttest: 0.7399125\tbest: 0.7399125 (50)\ttotal: 555ms\tremaining: 10.3s\n",
      "100:\tlearn: 0.7456033\ttest: 0.7465104\tbest: 0.7465104 (100)\ttotal: 1.1s\tremaining: 9.84s\n",
      "150:\tlearn: 0.7498800\ttest: 0.7502638\tbest: 0.7502638 (150)\ttotal: 1.65s\tremaining: 9.3s\n",
      "200:\tlearn: 0.7537256\ttest: 0.7536452\tbest: 0.7536452 (200)\ttotal: 2.19s\tremaining: 8.72s\n",
      "250:\tlearn: 0.7568593\ttest: 0.7562710\tbest: 0.7562710 (250)\ttotal: 2.72s\tremaining: 8.13s\n",
      "300:\tlearn: 0.7592427\ttest: 0.7582118\tbest: 0.7582118 (300)\ttotal: 3.24s\tremaining: 7.53s\n",
      "350:\tlearn: 0.7610462\ttest: 0.7595857\tbest: 0.7595857 (350)\ttotal: 3.77s\tremaining: 6.96s\n",
      "400:\tlearn: 0.7627151\ttest: 0.7606753\tbest: 0.7606753 (400)\ttotal: 4.29s\tremaining: 6.41s\n",
      "450:\tlearn: 0.7640830\ttest: 0.7615240\tbest: 0.7615240 (450)\ttotal: 4.81s\tremaining: 5.86s\n",
      "500:\tlearn: 0.7653081\ttest: 0.7623798\tbest: 0.7623798 (500)\ttotal: 5.33s\tremaining: 5.31s\n",
      "550:\tlearn: 0.7666292\ttest: 0.7632611\tbest: 0.7632611 (550)\ttotal: 5.85s\tremaining: 4.77s\n",
      "600:\tlearn: 0.7676384\ttest: 0.7639378\tbest: 0.7639385 (599)\ttotal: 6.37s\tremaining: 4.23s\n",
      "650:\tlearn: 0.7686291\ttest: 0.7646899\tbest: 0.7646899 (650)\ttotal: 6.89s\tremaining: 3.69s\n",
      "700:\tlearn: 0.7695933\ttest: 0.7652402\tbest: 0.7652402 (700)\ttotal: 7.41s\tremaining: 3.16s\n",
      "750:\tlearn: 0.7703707\ttest: 0.7656515\tbest: 0.7656515 (750)\ttotal: 7.93s\tremaining: 2.63s\n",
      "800:\tlearn: 0.7712715\ttest: 0.7660770\tbest: 0.7660770 (800)\ttotal: 8.45s\tremaining: 2.1s\n",
      "850:\tlearn: 0.7720554\ttest: 0.7663543\tbest: 0.7663674 (848)\ttotal: 8.97s\tremaining: 1.57s\n",
      "900:\tlearn: 0.7728266\ttest: 0.7667809\tbest: 0.7667809 (900)\ttotal: 9.49s\tremaining: 1.04s\n",
      "950:\tlearn: 0.7735029\ttest: 0.7671261\tbest: 0.7671261 (950)\ttotal: 10s\tremaining: 516ms\n",
      "999:\tlearn: 0.7742278\ttest: 0.7673888\tbest: 0.7673888 (999)\ttotal: 10.5s\tremaining: 0us\n",
      "bestTest = 0.7673888206\n",
      "bestIteration = 999\n",
      "Training with fold 3 completed.\n",
      "Training with fold 4 started.\n",
      "0:\tlearn: 0.6318187\ttest: 0.6273021\tbest: 0.6273021 (0)\ttotal: 11.3ms\tremaining: 11.3s\n",
      "50:\tlearn: 0.7421061\ttest: 0.7340062\tbest: 0.7340062 (50)\ttotal: 549ms\tremaining: 10.2s\n",
      "100:\tlearn: 0.7471943\ttest: 0.7393948\tbest: 0.7393948 (100)\ttotal: 1.09s\tremaining: 9.7s\n",
      "150:\tlearn: 0.7519694\ttest: 0.7441273\tbest: 0.7441273 (150)\ttotal: 1.62s\tremaining: 9.13s\n",
      "200:\tlearn: 0.7558331\ttest: 0.7477214\tbest: 0.7477214 (200)\ttotal: 2.15s\tremaining: 8.57s\n",
      "250:\tlearn: 0.7585110\ttest: 0.7498449\tbest: 0.7498449 (250)\ttotal: 2.68s\tremaining: 8.01s\n",
      "300:\tlearn: 0.7606198\ttest: 0.7514709\tbest: 0.7514709 (300)\ttotal: 3.21s\tremaining: 7.45s\n",
      "350:\tlearn: 0.7625911\ttest: 0.7528936\tbest: 0.7528936 (350)\ttotal: 3.73s\tremaining: 6.9s\n",
      "400:\tlearn: 0.7639625\ttest: 0.7538378\tbest: 0.7538378 (400)\ttotal: 4.26s\tremaining: 6.36s\n",
      "450:\tlearn: 0.7655462\ttest: 0.7550541\tbest: 0.7550541 (450)\ttotal: 4.78s\tremaining: 5.81s\n",
      "500:\tlearn: 0.7666908\ttest: 0.7558587\tbest: 0.7558587 (500)\ttotal: 5.3s\tremaining: 5.28s\n",
      "550:\tlearn: 0.7679722\ttest: 0.7567612\tbest: 0.7567612 (550)\ttotal: 5.82s\tremaining: 4.74s\n",
      "600:\tlearn: 0.7690207\ttest: 0.7574487\tbest: 0.7574487 (600)\ttotal: 6.34s\tremaining: 4.21s\n",
      "650:\tlearn: 0.7699728\ttest: 0.7579546\tbest: 0.7579546 (650)\ttotal: 6.86s\tremaining: 3.68s\n",
      "700:\tlearn: 0.7708516\ttest: 0.7586235\tbest: 0.7586235 (700)\ttotal: 7.38s\tremaining: 3.15s\n",
      "750:\tlearn: 0.7717772\ttest: 0.7592455\tbest: 0.7592455 (750)\ttotal: 7.91s\tremaining: 2.62s\n",
      "800:\tlearn: 0.7726520\ttest: 0.7596919\tbest: 0.7596919 (800)\ttotal: 8.43s\tremaining: 2.09s\n",
      "850:\tlearn: 0.7734127\ttest: 0.7601559\tbest: 0.7601559 (850)\ttotal: 8.95s\tremaining: 1.57s\n",
      "900:\tlearn: 0.7742315\ttest: 0.7606297\tbest: 0.7606297 (900)\ttotal: 9.47s\tremaining: 1.04s\n",
      "950:\tlearn: 0.7750156\ttest: 0.7610572\tbest: 0.7610572 (950)\ttotal: 9.99s\tremaining: 515ms\n",
      "999:\tlearn: 0.7756599\ttest: 0.7613185\tbest: 0.7613185 (999)\ttotal: 10.5s\tremaining: 0us\n",
      "bestTest = 0.7613185346\n",
      "bestIteration = 999\n",
      "Training with fold 4 completed.\n",
      "Training with fold 5 started.\n",
      "0:\tlearn: 0.6331406\ttest: 0.6386228\tbest: 0.6386228 (0)\ttotal: 11.1ms\tremaining: 11.1s\n",
      "50:\tlearn: 0.7381034\ttest: 0.7407662\tbest: 0.7407662 (50)\ttotal: 546ms\tremaining: 10.2s\n",
      "100:\tlearn: 0.7455513\ttest: 0.7468382\tbest: 0.7468382 (100)\ttotal: 1.09s\tremaining: 9.72s\n"
     ]
    },
    {
     "name": "stdout",
     "output_type": "stream",
     "text": [
      "150:\tlearn: 0.7508613\ttest: 0.7512218\tbest: 0.7512218 (150)\ttotal: 1.64s\tremaining: 9.2s\n",
      "200:\tlearn: 0.7543858\ttest: 0.7542209\tbest: 0.7542209 (200)\ttotal: 2.17s\tremaining: 8.62s\n",
      "250:\tlearn: 0.7571681\ttest: 0.7565681\tbest: 0.7565681 (250)\ttotal: 2.69s\tremaining: 8.03s\n",
      "300:\tlearn: 0.7594340\ttest: 0.7583472\tbest: 0.7583472 (300)\ttotal: 3.21s\tremaining: 7.47s\n",
      "350:\tlearn: 0.7615779\ttest: 0.7598486\tbest: 0.7598486 (350)\ttotal: 3.74s\tremaining: 6.91s\n",
      "400:\tlearn: 0.7630758\ttest: 0.7609280\tbest: 0.7609280 (400)\ttotal: 4.26s\tremaining: 6.36s\n",
      "450:\tlearn: 0.7645462\ttest: 0.7618867\tbest: 0.7618867 (450)\ttotal: 4.78s\tremaining: 5.82s\n",
      "500:\tlearn: 0.7657660\ttest: 0.7626562\tbest: 0.7626562 (500)\ttotal: 5.3s\tremaining: 5.28s\n",
      "550:\tlearn: 0.7669195\ttest: 0.7632489\tbest: 0.7632489 (550)\ttotal: 5.83s\tremaining: 4.75s\n",
      "600:\tlearn: 0.7679652\ttest: 0.7637425\tbest: 0.7637425 (600)\ttotal: 6.34s\tremaining: 4.21s\n",
      "650:\tlearn: 0.7688950\ttest: 0.7642316\tbest: 0.7642316 (650)\ttotal: 6.87s\tremaining: 3.68s\n",
      "700:\tlearn: 0.7699478\ttest: 0.7648037\tbest: 0.7648055 (699)\ttotal: 7.38s\tremaining: 3.15s\n",
      "750:\tlearn: 0.7708987\ttest: 0.7652366\tbest: 0.7652366 (750)\ttotal: 7.9s\tremaining: 2.62s\n",
      "800:\tlearn: 0.7717835\ttest: 0.7655861\tbest: 0.7655861 (800)\ttotal: 8.42s\tremaining: 2.09s\n",
      "850:\tlearn: 0.7724974\ttest: 0.7659412\tbest: 0.7659412 (850)\ttotal: 8.95s\tremaining: 1.57s\n",
      "900:\tlearn: 0.7732541\ttest: 0.7662302\tbest: 0.7662302 (900)\ttotal: 9.46s\tremaining: 1.04s\n",
      "950:\tlearn: 0.7739490\ttest: 0.7666150\tbest: 0.7666151 (949)\ttotal: 9.98s\tremaining: 515ms\n",
      "999:\tlearn: 0.7746730\ttest: 0.7668598\tbest: 0.7668598 (999)\ttotal: 10.5s\tremaining: 0us\n",
      "bestTest = 0.7668597698\n",
      "bestIteration = 999\n",
      "Training with fold 5 completed.\n"
     ]
    }
   ],
   "source": [
    "targets = merged_data.flag.values\n",
    "\n",
    "cv = KFold(n_splits=5, random_state=100, shuffle=True)\n",
    "\n",
    "oof = np.zeros(len(merged_data))\n",
    "train_preds = np.zeros(len(merged_data))\n",
    "\n",
    "models = []\n",
    "\n",
    "\n",
    "tree_params = {\n",
    "    'max_depth': 5,\n",
    "    'eval_metric': 'AUC',\n",
    "    'loss_function': 'Logloss',\n",
    "    'random_state': 100,\n",
    "    'l2_leaf_reg': 1,\n",
    "    'task_type': 'GPU' # если имеется GPU с CUDA, то можно ее задействовать, чтобы на порядок ускорить обучение\n",
    "}\n",
    "\n",
    "\n",
    "for fold_, (train_idx, val_idx) in enumerate(cv.split(merged_data, targets), 1):\n",
    "    print(f'Training with fold {fold_} started.')\n",
    "    model = cb.CatBoostClassifier(**tree_params)    \n",
    "    \n",
    "    train, val = merged_data.iloc[train_idx], merged_data.iloc[val_idx]\n",
    "    \n",
    "    train_pool = cb.Pool(train[features], train.flag.values)\n",
    "    val_pool = cb.Pool(val[features], val.flag.values)\n",
    "    \n",
    "\n",
    "    model.fit(train_pool, eval_set=[val_pool], early_stopping_rounds=100, verbose_eval=50, use_best_model=True, plot=False)\n",
    "    \n",
    "    oof[val_idx] = model.predict_proba(val_pool)[:, 1]\n",
    "    \n",
    "    train_preds[train_idx] += model.predict_proba(train_pool)[:, 1] / (cv.n_splits-1)\n",
    "    models.append(model)\n",
    "    print(f'Training with fold {fold_} completed.')"
   ]
  },
  {
   "cell_type": "code",
   "execution_count": 57,
   "metadata": {},
   "outputs": [
    {
     "data": {
      "text/plain": [
       "('Train roc-auc', 0.7758456533245421)"
      ]
     },
     "execution_count": 57,
     "metadata": {},
     "output_type": "execute_result"
    }
   ],
   "source": [
    "'Train roc-auc', roc_auc_score(targets, train_preds)"
   ]
  },
  {
   "cell_type": "code",
   "execution_count": 58,
   "metadata": {},
   "outputs": [
    {
     "data": {
      "text/plain": [
       "('CV roc-auc', 0.7642830122285327)"
      ]
     },
     "execution_count": 58,
     "metadata": {},
     "output_type": "execute_result"
    }
   ],
   "source": [
    "'CV roc-auc', roc_auc_score(targets, oof)"
   ]
  },
  {
   "cell_type": "code",
   "execution_count": 59,
   "metadata": {},
   "outputs": [
    {
     "name": "stderr",
     "output_type": "stream",
     "text": [
      "This function will be removed in tqdm==5.0.0\n",
      "Please use `tqdm.notebook.tqdm` instead of `tqdm.tqdm_notebook`\n"
     ]
    },
    {
     "data": {
      "application/vnd.jupyter.widget-view+json": {
       "model_id": "66c6313917434dfc81eda20c4774ab04",
       "version_major": 2,
       "version_minor": 0
      },
      "text/plain": [
       "HBox(children=(HTML(value=''), FloatProgress(value=0.0, max=5.0), HTML(value='')))"
      ]
     },
     "metadata": {},
     "output_type": "display_data"
    },
    {
     "name": "stdout",
     "output_type": "stream",
     "text": [
      "\n"
     ]
    }
   ],
   "source": [
    "score = np.zeros(len(merged_test_data))\n",
    "\n",
    "test_pool = cb.Pool(merged_test_data[features])\n",
    "\n",
    "for model in tqdm.tqdm_notebook(models):\n",
    "    score += model.predict_proba(test_pool)[:, 1] / len(models)\n",
    "    \n",
    "submission = pd.DataFrame({\n",
    "    'app_id' : test_data.app_id.values,\n",
    "    'score': score\n",
    "}) # ~ 0.732 на public test"
   ]
  },
  {
   "cell_type": "code",
   "execution_count": null,
   "metadata": {},
   "outputs": [],
   "source": []
  }
 ],
 "metadata": {
  "kernelspec": {
   "display_name": "Python 3 (ipykernel)",
   "language": "python",
   "name": "python3"
  },
  "language_info": {
   "codemirror_mode": {
    "name": "ipython",
    "version": 3
   },
   "file_extension": ".py",
   "mimetype": "text/x-python",
   "name": "python",
   "nbconvert_exporter": "python",
   "pygments_lexer": "ipython3",
   "version": "3.9.12"
  }
 },
 "nbformat": 4,
 "nbformat_minor": 2
}
